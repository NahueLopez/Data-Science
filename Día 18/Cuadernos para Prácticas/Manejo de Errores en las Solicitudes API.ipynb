{
 "cells": [
  {
   "cell_type": "code",
   "execution_count": 2,
   "id": "ad1a90a8",
   "metadata": {},
   "outputs": [],
   "source": [
    "import requests\n",
    "\n",
    "url = \"https://jsonplaceholder.typicode.com/posts/1\"\n",
    "respuesta = requests.get(url)"
   ]
  },
  {
   "cell_type": "code",
   "execution_count": 4,
   "id": "11c0d969",
   "metadata": {},
   "outputs": [
    {
     "data": {
      "text/plain": [
       "requests.models.Response"
      ]
     },
     "execution_count": 4,
     "metadata": {},
     "output_type": "execute_result"
    }
   ],
   "source": [
    "type(respuesta)"
   ]
  },
  {
   "cell_type": "code",
   "execution_count": 6,
   "id": "40c9061a-8226-4a6f-98a7-42f4f07b282b",
   "metadata": {},
   "outputs": [
    {
     "data": {
      "text/plain": [
       "200"
      ]
     },
     "execution_count": 6,
     "metadata": {},
     "output_type": "execute_result"
    }
   ],
   "source": [
    "respuesta.status_code"
   ]
  },
  {
   "cell_type": "code",
   "execution_count": 8,
   "id": "4ae2dd8a-b176-4b07-9234-e907fb4a76a1",
   "metadata": {},
   "outputs": [
    {
     "name": "stdout",
     "output_type": "stream",
     "text": [
      "{'userId': 1, 'id': 1, 'title': 'sunt aut facere repellat provident occaecati excepturi optio reprehenderit', 'body': 'quia et suscipit\\nsuscipit recusandae consequuntur expedita et cum\\nreprehenderit molestiae ut ut quas totam\\nnostrum rerum est autem sunt rem eveniet architecto'}\n"
     ]
    }
   ],
   "source": [
    "if respuesta.status_code == 200:\n",
    "    data = respuesta.json()\n",
    "    print(data)\n",
    "else:\n",
    "    print(f\"Error {respuesta.status_code}: no disponemos de esa informacion\")"
   ]
  },
  {
   "cell_type": "code",
   "execution_count": 12,
   "id": "05f11477-8a5d-472f-98b5-b23889b34bba",
   "metadata": {},
   "outputs": [
    {
     "name": "stdout",
     "output_type": "stream",
     "text": [
      "Error 404: no disponemos de esa informacion\n"
     ]
    }
   ],
   "source": [
    "url = \"https://jsonplaceholder.typicode.com/posts/a\"\n",
    "respuesta = requests.get(url)\n",
    "if respuesta.status_code == 200:\n",
    "    data = respuesta.json()\n",
    "    print(data)\n",
    "else:\n",
    "    print(f\"Error {respuesta.status_code}: no disponemos de esa informacion\")"
   ]
  },
  {
   "cell_type": "code",
   "execution_count": null,
   "id": "7a242b47-2da3-447b-9063-d252503c9d7f",
   "metadata": {},
   "outputs": [],
   "source": []
  }
 ],
 "metadata": {
  "kernelspec": {
   "display_name": "Python 3 (ipykernel)",
   "language": "python",
   "name": "python3"
  },
  "language_info": {
   "codemirror_mode": {
    "name": "ipython",
    "version": 3
   },
   "file_extension": ".py",
   "mimetype": "text/x-python",
   "name": "python",
   "nbconvert_exporter": "python",
   "pygments_lexer": "ipython3",
   "version": "3.11.7"
  }
 },
 "nbformat": 4,
 "nbformat_minor": 5
}
