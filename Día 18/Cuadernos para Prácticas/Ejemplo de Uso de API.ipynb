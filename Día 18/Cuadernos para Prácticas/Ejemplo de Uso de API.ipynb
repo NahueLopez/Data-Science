{
 "cells": [
  {
   "cell_type": "code",
   "execution_count": 1,
   "id": "865595f0",
   "metadata": {},
   "outputs": [],
   "source": [
    "import requests"
   ]
  },
  {
   "cell_type": "code",
   "execution_count": 3,
   "id": "3f59c52b-4601-4ecb-8132-9b360adf6a72",
   "metadata": {},
   "outputs": [],
   "source": [
    "ciudad = \"madrid\""
   ]
  },
  {
   "cell_type": "code",
   "execution_count": 9,
   "id": "47209d86-2c03-4de1-8116-df35763c5baf",
   "metadata": {},
   "outputs": [],
   "source": [
    "api_key = \"ac4d799101f833e04cd42daa4708f096\""
   ]
  },
  {
   "cell_type": "code",
   "execution_count": 11,
   "id": "655b7c0d-9dc4-44d1-a3b0-0828207e7522",
   "metadata": {},
   "outputs": [],
   "source": [
    "url = f\"https://api.openweathermap.org/data/2.5/weather?q={ciudad}&appid={api_key}\""
   ]
  },
  {
   "cell_type": "code",
   "execution_count": 15,
   "id": "5f04f85d-7d91-4cdc-a1f7-eb22b038b287",
   "metadata": {},
   "outputs": [],
   "source": [
    "respuesta = requests.get(url)"
   ]
  },
  {
   "cell_type": "code",
   "execution_count": 19,
   "id": "69a69459-9b90-488c-a218-a000bd424fe6",
   "metadata": {},
   "outputs": [
    {
     "data": {
      "text/plain": [
       "requests.models.Response"
      ]
     },
     "execution_count": 19,
     "metadata": {},
     "output_type": "execute_result"
    }
   ],
   "source": [
    "type(respuesta)"
   ]
  },
  {
   "cell_type": "code",
   "execution_count": 21,
   "id": "aaed8bc0-dffa-4455-95a3-f9b87499fa17",
   "metadata": {},
   "outputs": [],
   "source": [
    "data = respuesta.json()"
   ]
  },
  {
   "cell_type": "code",
   "execution_count": 25,
   "id": "75146981-72a1-4b75-bd64-87fa4a07630d",
   "metadata": {},
   "outputs": [
    {
     "data": {
      "text/plain": [
       "dict"
      ]
     },
     "execution_count": 25,
     "metadata": {},
     "output_type": "execute_result"
    }
   ],
   "source": [
    "type(data)"
   ]
  },
  {
   "cell_type": "code",
   "execution_count": 27,
   "id": "b9360f5a-ab8e-4690-84e0-6cc13df49ca2",
   "metadata": {},
   "outputs": [
    {
     "data": {
      "text/plain": [
       "{'coord': {'lon': -3.7026, 'lat': 40.4165},\n",
       " 'weather': [{'id': 800,\n",
       "   'main': 'Clear',\n",
       "   'description': 'clear sky',\n",
       "   'icon': '01d'}],\n",
       " 'base': 'stations',\n",
       " 'main': {'temp': 303.86,\n",
       "  'feels_like': 302.5,\n",
       "  'temp_min': 302.6,\n",
       "  'temp_max': 304.9,\n",
       "  'pressure': 1015,\n",
       "  'humidity': 29,\n",
       "  'sea_level': 1015,\n",
       "  'grnd_level': 942},\n",
       " 'visibility': 10000,\n",
       " 'wind': {'speed': 4.63, 'deg': 360},\n",
       " 'clouds': {'all': 0},\n",
       " 'dt': 1719935043,\n",
       " 'sys': {'type': 2,\n",
       "  'id': 2007545,\n",
       "  'country': 'ES',\n",
       "  'sunrise': 1719895732,\n",
       "  'sunset': 1719949718},\n",
       " 'timezone': 7200,\n",
       " 'id': 3117735,\n",
       " 'name': 'Madrid',\n",
       " 'cod': 200}"
      ]
     },
     "execution_count": 27,
     "metadata": {},
     "output_type": "execute_result"
    }
   ],
   "source": [
    "data"
   ]
  },
  {
   "cell_type": "code",
   "execution_count": null,
   "id": "5580c46b-0da3-477b-ad3d-b3b03abdbe79",
   "metadata": {},
   "outputs": [],
   "source": []
  }
 ],
 "metadata": {
  "kernelspec": {
   "display_name": "Python 3 (ipykernel)",
   "language": "python",
   "name": "python3"
  },
  "language_info": {
   "codemirror_mode": {
    "name": "ipython",
    "version": 3
   },
   "file_extension": ".py",
   "mimetype": "text/x-python",
   "name": "python",
   "nbconvert_exporter": "python",
   "pygments_lexer": "ipython3",
   "version": "3.11.7"
  }
 },
 "nbformat": 4,
 "nbformat_minor": 5
}
