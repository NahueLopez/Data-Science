{
 "cells": [
  {
   "cell_type": "code",
   "execution_count": 2,
   "id": "f07d5edd",
   "metadata": {},
   "outputs": [],
   "source": [
    "from sklearn.datasets import load_iris\n",
    "from sklearn.ensemble import RandomForestClassifier\n",
    "from sklearn.model_selection import cross_val_score\n",
    "\n",
    "data = load_iris()\n",
    "X = data.data\n",
    "y = data.target\n",
    "\n",
    "modelo = RandomForestClassifier(n_estimators=100, random_state=42)"
   ]
  },
  {
   "cell_type": "code",
   "execution_count": 4,
   "id": "b64bbd67",
   "metadata": {},
   "outputs": [],
   "source": [
    "puntaje = cross_val_score(modelo,\n",
    "                          X,\n",
    "                          y,\n",
    "                          cv=5,\n",
    "                         )"
   ]
  },
  {
   "cell_type": "code",
   "execution_count": 8,
   "id": "441f3e5b-7668-4f6b-8e3c-65adff6f8676",
   "metadata": {},
   "outputs": [
    {
     "name": "stdout",
     "output_type": "stream",
     "text": [
      "Exactitud de cada participacion: [0.96666667 0.96666667 0.93333333 0.96666667 1.        ]\n",
      "Promedio de la exactitud lograda: 0.9666666666666668\n"
     ]
    }
   ],
   "source": [
    "print(\"Exactitud de cada participacion:\", puntaje)\n",
    "print(\"Promedio de la exactitud lograda:\", puntaje.mean())"
   ]
  },
  {
   "cell_type": "code",
   "execution_count": null,
   "id": "546c0cd1-294d-4cb5-8d5a-5336c1a19fb8",
   "metadata": {},
   "outputs": [],
   "source": []
  }
 ],
 "metadata": {
  "kernelspec": {
   "display_name": "Python 3 (ipykernel)",
   "language": "python",
   "name": "python3"
  },
  "language_info": {
   "codemirror_mode": {
    "name": "ipython",
    "version": 3
   },
   "file_extension": ".py",
   "mimetype": "text/x-python",
   "name": "python",
   "nbconvert_exporter": "python",
   "pygments_lexer": "ipython3",
   "version": "3.11.7"
  }
 },
 "nbformat": 4,
 "nbformat_minor": 5
}
