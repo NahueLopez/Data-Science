{
 "cells": [
  {
   "cell_type": "markdown",
   "id": "a948c51c",
   "metadata": {},
   "source": [
    "# Proyecto del Día 5: Generador de Tablas de Multiplicar"
   ]
  },
  {
   "cell_type": "markdown",
   "id": "e8159936",
   "metadata": {},
   "source": [
    "\n",
    "Este proyecto de Python permite al usuario generar tablas de multiplicar para cualquier número y hasta un límite específico de multiplicación.\n",
    "\n",
    "## Consigna\n",
    "Vas a crear un código que le pida al usuario un **número para multiplicar**, y un **número límite** para establecer hasta cuánto lo vamos a multiplicar.\n",
    "\n",
    "Por ejemplo, si el usuario elige:\n",
    "- Número: 5\n",
    "- Límite: 3\n",
    "\n",
    "El programa le devolverá:\n",
    "```\n",
    "5 x 1 = 5\n",
    "5 x 2 = 10\n",
    "5 x 3 = 15\n",
    "````\n",
    "\n",
    "Cuando el programa termine de mostrar los resultados, debe preguntarle al usuario si desea calcular otra tabla, o finalizar el programa.\n",
    "\n",
    "**Recomendaciones**:\n",
    "- Crear una función que se encargue de calcular las tablas\n",
    "- Crear una función global que se encargue de:\n",
    "    - Solicitar al usuario un número para generar su tabla de multiplicar.\n",
    "    - Pedir el límite hasta donde se quiere llegar en la multiplicación.\n",
    "    - Llamar a la función que crea las tablas\n",
    "    \n",
    "- Emplear bucles `for` y la función `range` para la lógica de la tabla.\n",
    "- Implementar un bucle `while` para que el usuario pueda generar múltiples tablas o salir del programa.\n"
   ]
  },
  {
   "cell_type": "code",
   "execution_count": null,
   "id": "39ac3e8e",
   "metadata": {},
   "outputs": [
    {
     "name": "stdin",
     "output_type": "stream",
     "text": [
      "Selecciona una opcion:\n",
      "                        1 - Realizar una multiplicacion.\n",
      "                        2 - Salir del sistema\n",
      "                         1\n",
      "Ingrese numero a multiplicar 5\n",
      "Ingrese numero limite 3\n"
     ]
    },
    {
     "name": "stdout",
     "output_type": "stream",
     "text": [
      " \"\"\"\"\"\"\"\"\" \n",
      "5 x 1 = 5\n",
      "5 x 2 = 10\n",
      "5 x 3 = 15\n",
      " \"\"\"\"\"\"\"\"\" \n"
     ]
    }
   ],
   "source": [
    "def multiplicar(n,limit):\n",
    "    print(' \"\"\"\"\"\"\"\"\" ')\n",
    "    for l in range(1,limit+1):\n",
    "        resultado=n*l\n",
    "        print(f'{n} x {l} = {resultado}')\n",
    "    print(' \"\"\"\"\"\"\"\"\" ')\n",
    "\n",
    "def inicial():\n",
    "    n = int(input(\"Ingrese numero a multiplicar\"))\n",
    "    limit = int(input(\"Ingrese numero limite\"))\n",
    "    multiplicar(n,limit)\n",
    "\n",
    "\n",
    "while True:\n",
    "    select = int(input(\"\"\"Selecciona una opcion:\n",
    "                        1 - Realizar una multiplicacion.\n",
    "                        2 - Salir del sistema\n",
    "                        \"\"\"))\n",
    "    if select ==1:\n",
    "        inicial()\n",
    "    elif select ==2:\n",
    "        print(\"Muchas gracias por usar nuestros servicios\")\n",
    "        break\n",
    "    else:\n",
    "        print(\"Numero incorrecto\")\n",
    "\n",
    "    "
   ]
  },
  {
   "cell_type": "markdown",
   "id": "39e7431b-e7dc-4bfc-820b-dee08c9aea36",
   "metadata": {},
   "source": [
    "## "
   ]
  }
 ],
 "metadata": {
  "kernelspec": {
   "display_name": "Python 3 (ipykernel)",
   "language": "python",
   "name": "python3"
  },
  "language_info": {
   "codemirror_mode": {
    "name": "ipython",
    "version": 3
   },
   "file_extension": ".py",
   "mimetype": "text/x-python",
   "name": "python",
   "nbconvert_exporter": "python",
   "pygments_lexer": "ipython3",
   "version": "3.11.7"
  }
 },
 "nbformat": 4,
 "nbformat_minor": 5
}
