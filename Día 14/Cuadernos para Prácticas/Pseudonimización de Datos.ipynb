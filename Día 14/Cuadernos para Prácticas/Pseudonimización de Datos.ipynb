{
 "cells": [
  {
   "cell_type": "code",
   "execution_count": 60,
   "id": "04c28269",
   "metadata": {},
   "outputs": [],
   "source": [
    "import pandas as pd\n",
    "import uuid\n",
    "import hashlib"
   ]
  },
  {
   "cell_type": "code",
   "execution_count": 62,
   "id": "817a9289",
   "metadata": {
    "scrolled": true
   },
   "outputs": [
    {
     "data": {
      "text/html": [
       "<div>\n",
       "<style scoped>\n",
       "    .dataframe tbody tr th:only-of-type {\n",
       "        vertical-align: middle;\n",
       "    }\n",
       "\n",
       "    .dataframe tbody tr th {\n",
       "        vertical-align: top;\n",
       "    }\n",
       "\n",
       "    .dataframe thead th {\n",
       "        text-align: right;\n",
       "    }\n",
       "</style>\n",
       "<table border=\"1\" class=\"dataframe\">\n",
       "  <thead>\n",
       "    <tr style=\"text-align: right;\">\n",
       "      <th></th>\n",
       "      <th>nombre</th>\n",
       "      <th>email</th>\n",
       "      <th>ubicacion</th>\n",
       "    </tr>\n",
       "  </thead>\n",
       "  <tbody>\n",
       "    <tr>\n",
       "      <th>0</th>\n",
       "      <td>Ana</td>\n",
       "      <td>ana@example.com</td>\n",
       "      <td>Ciudad A</td>\n",
       "    </tr>\n",
       "    <tr>\n",
       "      <th>1</th>\n",
       "      <td>Juan</td>\n",
       "      <td>juan@example.com</td>\n",
       "      <td>Ciudad B</td>\n",
       "    </tr>\n",
       "    <tr>\n",
       "      <th>2</th>\n",
       "      <td>Luis</td>\n",
       "      <td>luis@example.com</td>\n",
       "      <td>Ciudad C</td>\n",
       "    </tr>\n",
       "  </tbody>\n",
       "</table>\n",
       "</div>"
      ],
      "text/plain": [
       "  nombre             email ubicacion\n",
       "0    Ana   ana@example.com  Ciudad A\n",
       "1   Juan  juan@example.com  Ciudad B\n",
       "2   Luis  luis@example.com  Ciudad C"
      ]
     },
     "execution_count": 62,
     "metadata": {},
     "output_type": "execute_result"
    }
   ],
   "source": [
    "data = pd.DataFrame({\n",
    "    'nombre': ['Ana', 'Juan', 'Luis'],\n",
    "    'email': ['ana@example.com', 'juan@example.com', 'luis@example.com'],\n",
    "    'ubicacion': ['Ciudad A', 'Ciudad B', 'Ciudad C']\n",
    "})\n",
    "\n",
    "data"
   ]
  },
  {
   "cell_type": "code",
   "execution_count": 64,
   "id": "c15bcc93",
   "metadata": {},
   "outputs": [],
   "source": [
    "id_pseudo = []"
   ]
  },
  {
   "cell_type": "code",
   "execution_count": 66,
   "id": "3895c78b-8a30-4b79-8042-b872f577abfb",
   "metadata": {},
   "outputs": [],
   "source": [
    "for n in range(len(data)): #Por cada nombre que vaya de 0 al largo de data\n",
    "    id_pseudo.append(str(uuid.uuid4()))"
   ]
  },
  {
   "cell_type": "code",
   "execution_count": 68,
   "id": "1e205fb1-4b91-470b-95cd-b64d128c8517",
   "metadata": {},
   "outputs": [
    {
     "data": {
      "text/plain": [
       "['df3bbbf4-94fe-43dd-acb3-b14353d28a92',\n",
       " 'ddc7c2cd-ff0d-49fd-9d53-aeacee5a61ab',\n",
       " '839f1fdd-1e79-43f5-96c0-2b91d36b7363']"
      ]
     },
     "execution_count": 68,
     "metadata": {},
     "output_type": "execute_result"
    }
   ],
   "source": [
    "id_pseudo"
   ]
  },
  {
   "cell_type": "code",
   "execution_count": 70,
   "id": "06130c2f-249a-436b-944c-d339605d6d62",
   "metadata": {},
   "outputs": [
    {
     "data": {
      "text/html": [
       "<div>\n",
       "<style scoped>\n",
       "    .dataframe tbody tr th:only-of-type {\n",
       "        vertical-align: middle;\n",
       "    }\n",
       "\n",
       "    .dataframe tbody tr th {\n",
       "        vertical-align: top;\n",
       "    }\n",
       "\n",
       "    .dataframe thead th {\n",
       "        text-align: right;\n",
       "    }\n",
       "</style>\n",
       "<table border=\"1\" class=\"dataframe\">\n",
       "  <thead>\n",
       "    <tr style=\"text-align: right;\">\n",
       "      <th></th>\n",
       "      <th>email</th>\n",
       "      <th>ubicacion</th>\n",
       "      <th>id_pseudo</th>\n",
       "    </tr>\n",
       "  </thead>\n",
       "  <tbody>\n",
       "    <tr>\n",
       "      <th>0</th>\n",
       "      <td>ana@example.com</td>\n",
       "      <td>Ciudad A</td>\n",
       "      <td>df3bbbf4-94fe-43dd-acb3-b14353d28a92</td>\n",
       "    </tr>\n",
       "    <tr>\n",
       "      <th>1</th>\n",
       "      <td>juan@example.com</td>\n",
       "      <td>Ciudad B</td>\n",
       "      <td>ddc7c2cd-ff0d-49fd-9d53-aeacee5a61ab</td>\n",
       "    </tr>\n",
       "    <tr>\n",
       "      <th>2</th>\n",
       "      <td>luis@example.com</td>\n",
       "      <td>Ciudad C</td>\n",
       "      <td>839f1fdd-1e79-43f5-96c0-2b91d36b7363</td>\n",
       "    </tr>\n",
       "  </tbody>\n",
       "</table>\n",
       "</div>"
      ],
      "text/plain": [
       "              email ubicacion                             id_pseudo\n",
       "0   ana@example.com  Ciudad A  df3bbbf4-94fe-43dd-acb3-b14353d28a92\n",
       "1  juan@example.com  Ciudad B  ddc7c2cd-ff0d-49fd-9d53-aeacee5a61ab\n",
       "2  luis@example.com  Ciudad C  839f1fdd-1e79-43f5-96c0-2b91d36b7363"
      ]
     },
     "execution_count": 70,
     "metadata": {},
     "output_type": "execute_result"
    }
   ],
   "source": [
    "data[\"id_pseudo\"] = id_pseudo\n",
    "data.drop(\"nombre\", axis=1 , inplace=True)\n",
    "data"
   ]
  },
  {
   "cell_type": "code",
   "execution_count": 72,
   "id": "b89a08d7-9ab1-4f66-a6f4-3561143b50bc",
   "metadata": {},
   "outputs": [],
   "source": [
    "def hash_data(data):\n",
    "    return hashlib.sha256(data.encode()).hexdigest()"
   ]
  },
  {
   "cell_type": "code",
   "execution_count": 74,
   "id": "3b552b6e-974b-4078-9722-3ea3afc60a0b",
   "metadata": {},
   "outputs": [],
   "source": [
    "hash_emails = []"
   ]
  },
  {
   "cell_type": "code",
   "execution_count": 76,
   "id": "a16732fd-5e9b-4b2e-8fe8-76803fb7edca",
   "metadata": {},
   "outputs": [
    {
     "data": {
      "text/html": [
       "<div>\n",
       "<style scoped>\n",
       "    .dataframe tbody tr th:only-of-type {\n",
       "        vertical-align: middle;\n",
       "    }\n",
       "\n",
       "    .dataframe tbody tr th {\n",
       "        vertical-align: top;\n",
       "    }\n",
       "\n",
       "    .dataframe thead th {\n",
       "        text-align: right;\n",
       "    }\n",
       "</style>\n",
       "<table border=\"1\" class=\"dataframe\">\n",
       "  <thead>\n",
       "    <tr style=\"text-align: right;\">\n",
       "      <th></th>\n",
       "      <th>email</th>\n",
       "      <th>ubicacion</th>\n",
       "      <th>id_pseudo</th>\n",
       "    </tr>\n",
       "  </thead>\n",
       "  <tbody>\n",
       "    <tr>\n",
       "      <th>0</th>\n",
       "      <td>8e43ca37701228e74983efdbd0cff5c16b3b1e5d4e29a7...</td>\n",
       "      <td>Ciudad A</td>\n",
       "      <td>df3bbbf4-94fe-43dd-acb3-b14353d28a92</td>\n",
       "    </tr>\n",
       "    <tr>\n",
       "      <th>1</th>\n",
       "      <td>81b562a0fe2aecc8831e2d7c9942f319736afc2a99415e...</td>\n",
       "      <td>Ciudad B</td>\n",
       "      <td>ddc7c2cd-ff0d-49fd-9d53-aeacee5a61ab</td>\n",
       "    </tr>\n",
       "    <tr>\n",
       "      <th>2</th>\n",
       "      <td>861d62c5b964e71b42e61aeb4e876f86908a86300b15b2...</td>\n",
       "      <td>Ciudad C</td>\n",
       "      <td>839f1fdd-1e79-43f5-96c0-2b91d36b7363</td>\n",
       "    </tr>\n",
       "  </tbody>\n",
       "</table>\n",
       "</div>"
      ],
      "text/plain": [
       "                                               email ubicacion  \\\n",
       "0  8e43ca37701228e74983efdbd0cff5c16b3b1e5d4e29a7...  Ciudad A   \n",
       "1  81b562a0fe2aecc8831e2d7c9942f319736afc2a99415e...  Ciudad B   \n",
       "2  861d62c5b964e71b42e61aeb4e876f86908a86300b15b2...  Ciudad C   \n",
       "\n",
       "                              id_pseudo  \n",
       "0  df3bbbf4-94fe-43dd-acb3-b14353d28a92  \n",
       "1  ddc7c2cd-ff0d-49fd-9d53-aeacee5a61ab  \n",
       "2  839f1fdd-1e79-43f5-96c0-2b91d36b7363  "
      ]
     },
     "execution_count": 76,
     "metadata": {},
     "output_type": "execute_result"
    }
   ],
   "source": [
    "for email in data[\"email\"]:\n",
    "    h_email = hash_data(email)\n",
    "    hash_emails.append(h_email)\n",
    "data[\"email\"] = hash_emails\n",
    "data"
   ]
  },
  {
   "cell_type": "code",
   "execution_count": 78,
   "id": "c20b7913-ccf0-4668-9c9c-4ae6a0b9aad7",
   "metadata": {},
   "outputs": [],
   "source": [
    "mis_tokens = {}"
   ]
  },
  {
   "cell_type": "code",
   "execution_count": 82,
   "id": "24735730-a838-41fd-a313-c2518e57e142",
   "metadata": {},
   "outputs": [],
   "source": [
    "def tokenizar(dato):\n",
    "    token = str(uuid.uuid4())\n",
    "    mis_tokens[token] = dato\n",
    "    return token"
   ]
  },
  {
   "cell_type": "code",
   "execution_count": 84,
   "id": "91c1767d-6eeb-4c87-af2a-8a314f68c092",
   "metadata": {},
   "outputs": [],
   "source": [
    "def recuperar_dato(token):\n",
    "    return mis_tokens.get(token, \"Token no válido\")"
   ]
  },
  {
   "cell_type": "code",
   "execution_count": 86,
   "id": "9f2eacce-a098-47d3-ad01-6689ba3105ed",
   "metadata": {},
   "outputs": [],
   "source": [
    "dato_original = \"123-456-789\"\n",
    "token = tokenizar(dato_original)"
   ]
  },
  {
   "cell_type": "code",
   "execution_count": 88,
   "id": "c220caf2-1f6e-485d-812b-feffc1ab0bf2",
   "metadata": {},
   "outputs": [
    {
     "name": "stdout",
     "output_type": "stream",
     "text": [
      "Token generado: 2f052425-1e93-403f-b48c-dd8c0e69ce89\n",
      "Dato recuperado: 123-456-789\n"
     ]
    }
   ],
   "source": [
    "print(f\"Token generado: {token}\")\n",
    "print(f\"Dato recuperado: {recuperar_dato(token)}\")"
   ]
  },
  {
   "cell_type": "code",
   "execution_count": null,
   "id": "652c29f8-f126-4618-b16e-8dace8836df3",
   "metadata": {},
   "outputs": [],
   "source": []
  }
 ],
 "metadata": {
  "kernelspec": {
   "display_name": "Python 3 (ipykernel)",
   "language": "python",
   "name": "python3"
  },
  "language_info": {
   "codemirror_mode": {
    "name": "ipython",
    "version": 3
   },
   "file_extension": ".py",
   "mimetype": "text/x-python",
   "name": "python",
   "nbconvert_exporter": "python",
   "pygments_lexer": "ipython3",
   "version": "3.11.7"
  }
 },
 "nbformat": 4,
 "nbformat_minor": 5
}
