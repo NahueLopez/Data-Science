{
 "cells": [
  {
   "cell_type": "code",
   "execution_count": null,
   "id": "174b61ef",
   "metadata": {},
   "outputs": [],
   "source": [
    "!pip install dash"
   ]
  },
  {
   "cell_type": "code",
   "execution_count": 1,
   "id": "27e75dea-e86f-4cc7-8b91-683c66abf12c",
   "metadata": {},
   "outputs": [],
   "source": [
    "import dash\n",
    "from dash import dcc, html"
   ]
  },
  {
   "cell_type": "code",
   "execution_count": null,
   "id": "56cd1568-4f2c-4bc2-a34a-cd9b2b8607fd",
   "metadata": {},
   "outputs": [],
   "source": [
    "app = dash.Dash(__name__)"
   ]
  },
  {
   "cell_type": "code",
   "execution_count": null,
   "id": "51dd5073-2c0c-498e-be9a-280faae834f0",
   "metadata": {},
   "outputs": [],
   "source": [
    "app.layout = html.Div(children=[\n",
    "    html.H1(children=\"Hola Dash\"),\n",
    "    html.Div(children=\"Este es un subtítulo\"),\n",
    "    dcc.Graph(id=\"grafico-ejemplo\",\n",
    "             figure={\n",
    "                 \"data\": [\n",
    "                     {\"x\":[1,2,3,4], \"y\":[4,1,2,6], \"type\": \"bar\", \"name\":\"Bogotá\"},\n",
    "                     {\"x\":[1,2,3,4], \"y\":[2,5,9,8], \"type\": \"bar\", \"name\":\"Buenos Aires\"}\n",
    "                 ],\n",
    "                 \"layout\": {\"title\": \"Visualizacion con Dash\"}\n",
    "             })         \n",
    "])\n"
   ]
  },
  {
   "cell_type": "code",
   "execution_count": null,
   "id": "6d08224c-342b-4ecb-b656-23b1b914a18d",
   "metadata": {},
   "outputs": [],
   "source": [
    "if __name__ == \"__main__\":\n",
    "    app.run_server(debug=True)"
   ]
  },
  {
   "cell_type": "code",
   "execution_count": null,
   "id": "60231128-4ed5-4d07-a16e-c2a33f31710f",
   "metadata": {},
   "outputs": [],
   "source": [
    "app = dash.Dash(__name__)"
   ]
  },
  {
   "cell_type": "code",
   "execution_count": null,
   "id": "539873c8-3439-44a9-ae38-42508d1a7478",
   "metadata": {},
   "outputs": [],
   "source": [
    "app.layout = html.Div(children=[\n",
    "    dcc.Input(id='caja-texto', type='text', value=''),\n",
    "    html.Button('Enviar', id='boton'),\n",
    "    html.Div(id='salida-boton', children='')\n",
    "])"
   ]
  },
  {
   "cell_type": "code",
   "execution_count": null,
   "id": "d4041eb7-a1f3-48f7-ba51-64c63807f817",
   "metadata": {},
   "outputs": [],
   "source": [
    "if __name__ == '__main__':\n",
    "    app.run_server(debug=True)"
   ]
  },
  {
   "cell_type": "code",
   "execution_count": null,
   "id": "6992724b-1f71-49be-bc07-9efc8cc82bf1",
   "metadata": {},
   "outputs": [],
   "source": [
    "@app.callback(\n",
    "dash.Output('salida-boton', 'children'),\n",
    "[dash.Input('boton', 'n_clicks')],\n",
    "[dash.State('caja-texto', 'value')])\n",
    "def actualizar_salida(n_clicks, valor):\n",
    "    if n_clicks == None:\n",
    "        return 'Introduzca un valor y presione el boton'\n",
    "    else:\n",
    "        return f'El valor ingresado es {valor}, y el botón fue presionado {n_clicks} veces'"
   ]
  },
  {
   "cell_type": "code",
   "execution_count": null,
   "id": "66cd00b0-809f-4f1f-b97d-8867c8aa9ace",
   "metadata": {
    "scrolled": true
   },
   "outputs": [],
   "source": [
    "if __name__ == '__main__':\n",
    "    app.run_server(debug=True)"
   ]
  },
  {
   "cell_type": "code",
   "execution_count": 3,
   "id": "09e2b8b7-b352-453e-9c4e-f085644cf783",
   "metadata": {},
   "outputs": [
    {
     "data": {
      "text/html": [
       "\n",
       "        <iframe\n",
       "            width=\"100%\"\n",
       "            height=\"650\"\n",
       "            src=\"http://127.0.0.1:8050/\"\n",
       "            frameborder=\"0\"\n",
       "            allowfullscreen\n",
       "            \n",
       "        ></iframe>\n",
       "        "
      ],
      "text/plain": [
       "<IPython.lib.display.IFrame at 0x269dd4d2b10>"
      ]
     },
     "metadata": {},
     "output_type": "display_data"
    }
   ],
   "source": [
    "import dash\n",
    "from dash import dcc, html\n",
    "import pandas as pd\n",
    "import plotly.express as px\n",
    "\n",
    "# Crear un DataFrame de ejemplo\n",
    "df = pd.DataFrame({\n",
    "    \"Fruta\": [\"Manzanas\", \"Naranjas\", \"Bananas\", \"Manzanas\", \"Naranjas\", \"Bananas\"],\n",
    "    \"Cantidad\": [4, 1, 2, 2, 4, 5],\n",
    "    \"Ciudad\": [\"BG\", \"BG\", \"BG\", \"BCN\", \"BCN\", \"BCN\"]})\n",
    "\n",
    "# Crear la aplicación Dash\n",
    "app = dash.Dash(__name__)\n",
    "\n",
    "# Definir el layout de la aplicación\n",
    "app.layout = html.Div(children=[\n",
    "    html.H1(children='Dashboard Interactivo Avanzado'),\n",
    "    dcc.Dropdown(\n",
    "        id='desplegable',\n",
    "        options=[{'label': 'Bogotá', 'value': 'BG'},\n",
    "                 {'label': 'Barcelona', 'value': 'BCN'}],\n",
    "        value='BG'),\n",
    "    dcc.Graph(id='grafico'),\n",
    "])\n",
    "\n",
    "# Callback para actualizar el gráfico basado en la selección del dropdown\n",
    "@app.callback(\n",
    "    dash.Output('grafico', 'figure'),\n",
    "    [dash.Input('desplegable', 'value')]\n",
    ")\n",
    "def actualizar_grafico(ciudad_seleccionada):\n",
    "    df_filtrado = df[df['Ciudad'] == ciudad_seleccionada]\n",
    "    fig = px.bar(df_filtrado, x='Fruta', y='Cantidad', color='Fruta')\n",
    "    return fig\n",
    "\n",
    "# Ejecutar la aplicación\n",
    "if __name__ == '__main__':\n",
    "    app.run_server(debug=True)\n"
   ]
  },
  {
   "cell_type": "code",
   "execution_count": null,
   "id": "85d97441-f5d6-4c2c-aac5-d5252e8761c6",
   "metadata": {},
   "outputs": [],
   "source": []
  }
 ],
 "metadata": {
  "kernelspec": {
   "display_name": "Python 3 (ipykernel)",
   "language": "python",
   "name": "python3"
  },
  "language_info": {
   "codemirror_mode": {
    "name": "ipython",
    "version": 3
   },
   "file_extension": ".py",
   "mimetype": "text/x-python",
   "name": "python",
   "nbconvert_exporter": "python",
   "pygments_lexer": "ipython3",
   "version": "3.11.7"
  }
 },
 "nbformat": 4,
 "nbformat_minor": 5
}
