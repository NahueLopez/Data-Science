{
 "cells": [
  {
   "cell_type": "markdown",
   "id": "9572445f",
   "metadata": {},
   "source": [
    "# Proyecto del Día 3: Analizador de Texto\n",
    "\n",
    "Este proyecto tiene como objetivo aplicar los conceptos aprendidos sobre strings, input, indexación y formateo de strings en Python. El programa permitirá al usuario ingresar un texto y luego elegir realizar diversas operaciones de análisis sobre ese texto.\n",
    "\n",
    "## Consigna\n",
    "Vas a crear un programa que le pida al usuario que ingrese un texto de al menos 10 palabras. Tu programa va a procesar ese texto, lo va a procesar, y le va a devolver un análisis detallado, que incluya:\n",
    "1. Contar el número total de caracteres en el texto\n",
    "2. Contar el número de caracteres sin incluir los espacios\n",
    "3. Contar la cantidad de vocales que hay en el texto\n",
    "4. Contar el número total de palabras en el texto ingresado\n",
    "\n",
    "**nota**: para resolver los siguientes items, deberás investigar otros métodos de strings que no hemos visto. Recuerda valerte de *type*, *dir* y *help*\n",
    "\n",
    "5. Eliminar la primera palabra\n",
    "6. Reemplazar todos los espacios por guiones medios (-)\n",
    "8. Cambia las mayúsculas a minúsculas y las minúsculas a mayúsculas \n",
    "\n",
    "Al finalizar el procesamiento, se imprimirán 8 cadenas literales mostrando los resultados del análisis (una cadena por cada resultado).\n",
    "<br>\n",
    "<br>\n",
    "<br>"
   ]
  },
  {
   "cell_type": "markdown",
   "id": "e5cd9e4d",
   "metadata": {},
   "source": [
    "### Resolución\n",
    "\n",
    "Ingreso del usuario:"
   ]
  },
  {
   "cell_type": "code",
   "execution_count": 49,
   "id": "fa27da8c",
   "metadata": {},
   "outputs": [
    {
     "name": "stdin",
     "output_type": "stream",
     "text": [
      "Ingrese un texto que contenga al menos 10 palabras: Panchito te amo con mi vida mi amor sos mi mundo entero\n"
     ]
    }
   ],
   "source": [
    "while True:\n",
    "    texto = input(\"Ingrese un texto que contenga al menos 10 palabras:\")\n",
    "    if texto.count(\" \")+1 >= 10:\n",
    "        break"
   ]
  },
  {
   "cell_type": "markdown",
   "id": "41214377",
   "metadata": {},
   "source": [
    "1. Contar el número total de caracteres en el texto"
   ]
  },
  {
   "cell_type": "code",
   "execution_count": 56,
   "id": "40448873",
   "metadata": {},
   "outputs": [
    {
     "name": "stdout",
     "output_type": "stream",
     "text": [
      "55\n"
     ]
    }
   ],
   "source": [
    "textoCaracteres = len(texto)\n"
   ]
  },
  {
   "cell_type": "markdown",
   "id": "3d6378dc",
   "metadata": {},
   "source": [
    "2. Contar el número de caracteres sin incluir los espacios"
   ]
  },
  {
   "cell_type": "code",
   "execution_count": 60,
   "id": "991b29c7",
   "metadata": {},
   "outputs": [
    {
     "name": "stdout",
     "output_type": "stream",
     "text": [
      "44\n"
     ]
    }
   ],
   "source": [
    "textoSinEspacios = texto.replace(\" \",\"\")\n",
    "textoSinEspacios = len(textoSinEspacios)\n"
   ]
  },
  {
   "cell_type": "markdown",
   "id": "c6e62385",
   "metadata": {},
   "source": [
    "3. Contar la cantidad de vocales que hay en el texto"
   ]
  },
  {
   "cell_type": "code",
   "execution_count": 70,
   "id": "65b19bc7",
   "metadata": {},
   "outputs": [
    {
     "name": "stdout",
     "output_type": "stream",
     "text": [
      "20\n"
     ]
    }
   ],
   "source": [
    "textoVocales = texto.count(\"a\") + texto.count(\"e\") + texto.count(\"i\") + texto.count(\"o\") + texto.count(\"u\")\n"
   ]
  },
  {
   "cell_type": "markdown",
   "id": "4b6211c5",
   "metadata": {},
   "source": [
    "4. Contar el número total de palabras en el texto ingresado"
   ]
  },
  {
   "cell_type": "code",
   "execution_count": 74,
   "id": "5b6eb1b1",
   "metadata": {},
   "outputs": [
    {
     "name": "stdout",
     "output_type": "stream",
     "text": [
      "12\n"
     ]
    }
   ],
   "source": [
    "textoPalabras = texto.strip().count(\" \") + 1\n"
   ]
  },
  {
   "cell_type": "markdown",
   "id": "bee5597e",
   "metadata": {},
   "source": [
    "5. Eliminar la primera palabra"
   ]
  },
  {
   "cell_type": "code",
   "execution_count": 88,
   "id": "8bcbfe9d",
   "metadata": {},
   "outputs": [
    {
     "name": "stdout",
     "output_type": "stream",
     "text": [
      "te amo con mi vida mi amor sos mi mundo entero\n"
     ]
    }
   ],
   "source": [
    "textoEliminar = texto.split(\" \")\n",
    "textoEliminar = \" \".join(textoEliminar[1:])\n"
   ]
  },
  {
   "cell_type": "markdown",
   "id": "d5b05440",
   "metadata": {},
   "source": [
    "6. Reemplazar todos los espacios por guiones medios (-)"
   ]
  },
  {
   "cell_type": "code",
   "execution_count": 90,
   "id": "90a21e61",
   "metadata": {},
   "outputs": [
    {
     "name": "stdout",
     "output_type": "stream",
     "text": [
      "Panchito-te-amo-con-mi-vida-mi-amor-sos-mi-mundo-entero\n"
     ]
    }
   ],
   "source": [
    "textoGuiones = texto.replace(\" \",\"-\")\n"
   ]
  },
  {
   "cell_type": "markdown",
   "id": "8a61c508",
   "metadata": {},
   "source": [
    "7. Cambia las mayúsculas a minúsculas y las minúsculas a mayúsculas"
   ]
  },
  {
   "cell_type": "code",
   "execution_count": 93,
   "id": "8cb35aaf",
   "metadata": {},
   "outputs": [
    {
     "name": "stdout",
     "output_type": "stream",
     "text": [
      "pANCHITO TE AMO CON MI VIDA MI AMOR SOS MI MUNDO ENTERO\n"
     ]
    }
   ],
   "source": [
    "textoCambio = texto.swapcase()\n"
   ]
  },
  {
   "cell_type": "markdown",
   "id": "66b8d816",
   "metadata": {},
   "source": [
    "Muéstrale al usuario los resultados del análisis de su texto."
   ]
  },
  {
   "cell_type": "code",
   "execution_count": 101,
   "id": "eb0d449a",
   "metadata": {},
   "outputs": [
    {
     "name": "stdout",
     "output_type": "stream",
     "text": [
      "Texto original: Panchito te amo con mi vida mi amor sos mi mundo entero\n",
      "Cantidad de caracteres: 55\n",
      "Cantidad de caracteres sin espacios: 44\n",
      "Cantidad de vocales: 20\n",
      "Cantidad de palabras: 12\n",
      "Texto eliminando la primer palabra: te amo con mi vida mi amor sos mi mundo entero\n",
      "Cambio de espacios por guiones: Panchito-te-amo-con-mi-vida-mi-amor-sos-mi-mundo-entero\n",
      "Cambio de minusculas por mayuscula y dicebersa: pANCHITO TE AMO CON MI VIDA MI AMOR SOS MI MUNDO ENTERO\n"
     ]
    }
   ],
   "source": [
    "print(f\"Texto original: {texto}\")\n",
    "print(f\"Cantidad de caracteres: {textoCaracteres}\")\n",
    "print(f\"Cantidad de caracteres sin espacios: {textoSinEspacios}\")\n",
    "print(f\"Cantidad de vocales: {textoVocales}\")\n",
    "print(f\"Cantidad de palabras: {textoPalabras}\")\n",
    "print(f\"Texto eliminando la primer palabra: {textoEliminar}\")\n",
    "print(f\"Cambio de espacios por guiones: {textoGuiones}\")\n",
    "print(f\"Cambio de minusculas por mayuscula y dicebersa: {textoCambio}\")"
   ]
  },
  {
   "cell_type": "code",
   "execution_count": null,
   "id": "6fe55032-a5e9-4879-b90e-d3ce1ed997aa",
   "metadata": {},
   "outputs": [],
   "source": []
  }
 ],
 "metadata": {
  "kernelspec": {
   "display_name": "Python 3 (ipykernel)",
   "language": "python",
   "name": "python3"
  },
  "language_info": {
   "codemirror_mode": {
    "name": "ipython",
    "version": 3
   },
   "file_extension": ".py",
   "mimetype": "text/x-python",
   "name": "python",
   "nbconvert_exporter": "python",
   "pygments_lexer": "ipython3",
   "version": "3.11.7"
  }
 },
 "nbformat": 4,
 "nbformat_minor": 5
}
