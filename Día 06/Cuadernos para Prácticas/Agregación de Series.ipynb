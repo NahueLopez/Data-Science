{
 "cells": [
  {
   "cell_type": "code",
   "execution_count": 2,
   "id": "70be9b8b",
   "metadata": {},
   "outputs": [
    {
     "data": {
      "text/plain": [
       "0    10\n",
       "1    20\n",
       "2    30\n",
       "3    40\n",
       "4    50\n",
       "dtype: int64"
      ]
     },
     "execution_count": 2,
     "metadata": {},
     "output_type": "execute_result"
    }
   ],
   "source": [
    "import pandas as pd\n",
    "\n",
    "numeros = pd.Series([10, 20, 30, 40, 50])\n",
    "numeros"
   ]
  },
  {
   "cell_type": "code",
   "execution_count": 4,
   "id": "5843b7e6-8fde-4a5c-abbc-322fb2d4e256",
   "metadata": {},
   "outputs": [
    {
     "name": "stdout",
     "output_type": "stream",
     "text": [
      "El promedio es: 30.0\n"
     ]
    }
   ],
   "source": [
    "promedio = numeros.mean()\n",
    "print(f\"El promedio es: {promedio}\")"
   ]
  },
  {
   "cell_type": "code",
   "execution_count": 6,
   "id": "939f8b7b-7f87-4124-83be-2bd936424337",
   "metadata": {},
   "outputs": [
    {
     "data": {
      "text/plain": [
       "150"
      ]
     },
     "execution_count": 6,
     "metadata": {},
     "output_type": "execute_result"
    }
   ],
   "source": [
    "total = numeros.sum()\n",
    "total"
   ]
  },
  {
   "cell_type": "code",
   "execution_count": 8,
   "id": "47db09a2-e044-4c94-a20a-ecd6a2403a5e",
   "metadata": {},
   "outputs": [
    {
     "data": {
      "text/plain": [
       "50"
      ]
     },
     "execution_count": 8,
     "metadata": {},
     "output_type": "execute_result"
    }
   ],
   "source": [
    "maximo = numeros.max()\n",
    "maximo"
   ]
  },
  {
   "cell_type": "code",
   "execution_count": 12,
   "id": "49c85f46-9542-4d49-964d-958329151dbf",
   "metadata": {},
   "outputs": [
    {
     "data": {
      "text/plain": [
       "10"
      ]
     },
     "execution_count": 12,
     "metadata": {},
     "output_type": "execute_result"
    }
   ],
   "source": [
    "minimo = numeros.min()\n",
    "minimo"
   ]
  },
  {
   "cell_type": "code",
   "execution_count": null,
   "id": "ccdd88c0-7df4-4a6a-9d2b-37be42be05c2",
   "metadata": {},
   "outputs": [],
   "source": []
  }
 ],
 "metadata": {
  "kernelspec": {
   "display_name": "Python 3 (ipykernel)",
   "language": "python",
   "name": "python3"
  },
  "language_info": {
   "codemirror_mode": {
    "name": "ipython",
    "version": 3
   },
   "file_extension": ".py",
   "mimetype": "text/x-python",
   "name": "python",
   "nbconvert_exporter": "python",
   "pygments_lexer": "ipython3",
   "version": "3.11.7"
  }
 },
 "nbformat": 4,
 "nbformat_minor": 5
}
