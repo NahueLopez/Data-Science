{
 "cells": [
  {
   "cell_type": "markdown",
   "id": "1ff9b7b5",
   "metadata": {},
   "source": [
    "# Proyecto del Día 8 - Análisis de Datos Meteorológicos\n",
    "\n",
    "Este proyecto consiste en analizar un conjunto de datos meteorológicos utilizando Python y NumPy. \n",
    "El objetivo es aplicar las técnicas de manipulación de arrays, tratamiento de datos faltantes, \n",
    "y análisis estadístico básico en un conjunto de datos del mundo real.\n",
    "\n",
    "## Tareas a Realizar:\n",
    "1. Crear un DataFrame a partir de los datos del archivo **datos_meteorologicos.csv** provisto en esta lección.\n",
    "2. Realizar observaciones iniciales de los datos con Pandas.\n",
    "3. Convertir las columnas del DataFrame en arrays de NumPy.\n",
    "4. Identificar los datos faltantes en los arrays, y reemplazarlos por el promedio de los valores del respectivo array.\n",
    "5. Realizar análisis estadísticos básicos. Mínimamente se espera que puedas extraer la siguiente información de tus arrays:\n",
    "    * La temperatura promedio\n",
    "    * El total de precipitaciones\n",
    "    * La máxima humedad registrada\n",
    "    * La fecha más calurosa\n",
    "    * La fehca más fría\n",
    "6. Exportar los resultados a un nuevo archivo CSV.\n",
    "\n",
    "¡Mucha suerte con tu proyecto!\n"
   ]
  },
  {
   "cell_type": "markdown",
   "id": "6b416605",
   "metadata": {},
   "source": [
    "### 1. Crear un DataFrame a partir de los datos del archivo datos_meteorologicos.csv provisto en esta lección."
   ]
  },
  {
   "cell_type": "code",
   "execution_count": 462,
   "id": "6d5d08ca-30e1-4475-b235-1183982c768a",
   "metadata": {},
   "outputs": [],
   "source": [
    "import pandas as pd\n",
    "import numpy as np"
   ]
  },
  {
   "cell_type": "code",
   "execution_count": 464,
   "id": "4dabf813",
   "metadata": {},
   "outputs": [
    {
     "data": {
      "text/html": [
       "<div>\n",
       "<style scoped>\n",
       "    .dataframe tbody tr th:only-of-type {\n",
       "        vertical-align: middle;\n",
       "    }\n",
       "\n",
       "    .dataframe tbody tr th {\n",
       "        vertical-align: top;\n",
       "    }\n",
       "\n",
       "    .dataframe thead th {\n",
       "        text-align: right;\n",
       "    }\n",
       "</style>\n",
       "<table border=\"1\" class=\"dataframe\">\n",
       "  <thead>\n",
       "    <tr style=\"text-align: right;\">\n",
       "      <th></th>\n",
       "      <th>Fecha</th>\n",
       "      <th>Temperatura</th>\n",
       "      <th>Precipitación</th>\n",
       "      <th>Humedad</th>\n",
       "    </tr>\n",
       "  </thead>\n",
       "  <tbody>\n",
       "    <tr>\n",
       "      <th>0</th>\n",
       "      <td>01/01/2010</td>\n",
       "      <td>17.440675</td>\n",
       "      <td>10.957482</td>\n",
       "      <td>52.384637</td>\n",
       "    </tr>\n",
       "    <tr>\n",
       "      <th>1</th>\n",
       "      <td>02/01/2010</td>\n",
       "      <td>25.759468</td>\n",
       "      <td>5.315628</td>\n",
       "      <td>30.633530</td>\n",
       "    </tr>\n",
       "    <tr>\n",
       "      <th>2</th>\n",
       "      <td>03/01/2010</td>\n",
       "      <td>20.138169</td>\n",
       "      <td>15.317706</td>\n",
       "      <td>41.496715</td>\n",
       "    </tr>\n",
       "    <tr>\n",
       "      <th>3</th>\n",
       "      <td>04/01/2010</td>\n",
       "      <td>17.244159</td>\n",
       "      <td>13.151008</td>\n",
       "      <td>90.684704</td>\n",
       "    </tr>\n",
       "    <tr>\n",
       "      <th>4</th>\n",
       "      <td>05/01/2010</td>\n",
       "      <td>11.182740</td>\n",
       "      <td>16.413667</td>\n",
       "      <td>22.116422</td>\n",
       "    </tr>\n",
       "    <tr>\n",
       "      <th>...</th>\n",
       "      <td>...</td>\n",
       "      <td>...</td>\n",
       "      <td>...</td>\n",
       "      <td>...</td>\n",
       "    </tr>\n",
       "    <tr>\n",
       "      <th>5105</th>\n",
       "      <td>24/12/2023</td>\n",
       "      <td>-9.554692</td>\n",
       "      <td>12.700998</td>\n",
       "      <td>50.094533</td>\n",
       "    </tr>\n",
       "    <tr>\n",
       "      <th>5106</th>\n",
       "      <td>25/12/2023</td>\n",
       "      <td>2.837831</td>\n",
       "      <td>5.475686</td>\n",
       "      <td>92.456057</td>\n",
       "    </tr>\n",
       "    <tr>\n",
       "      <th>5107</th>\n",
       "      <td>26/12/2023</td>\n",
       "      <td>29.873597</td>\n",
       "      <td>4.615012</td>\n",
       "      <td>18.362847</td>\n",
       "    </tr>\n",
       "    <tr>\n",
       "      <th>5108</th>\n",
       "      <td>27/12/2023</td>\n",
       "      <td>NaN</td>\n",
       "      <td>NaN</td>\n",
       "      <td>NaN</td>\n",
       "    </tr>\n",
       "    <tr>\n",
       "      <th>5109</th>\n",
       "      <td>28/12/2023</td>\n",
       "      <td>37.308043</td>\n",
       "      <td>7.330510</td>\n",
       "      <td>50.646211</td>\n",
       "    </tr>\n",
       "  </tbody>\n",
       "</table>\n",
       "<p>5110 rows × 4 columns</p>\n",
       "</div>"
      ],
      "text/plain": [
       "           Fecha  Temperatura  Precipitación    Humedad\n",
       "0     01/01/2010    17.440675      10.957482  52.384637\n",
       "1     02/01/2010    25.759468       5.315628  30.633530\n",
       "2     03/01/2010    20.138169      15.317706  41.496715\n",
       "3     04/01/2010    17.244159      13.151008  90.684704\n",
       "4     05/01/2010    11.182740      16.413667  22.116422\n",
       "...          ...          ...            ...        ...\n",
       "5105  24/12/2023    -9.554692      12.700998  50.094533\n",
       "5106  25/12/2023     2.837831       5.475686  92.456057\n",
       "5107  26/12/2023    29.873597       4.615012  18.362847\n",
       "5108  27/12/2023          NaN            NaN        NaN\n",
       "5109  28/12/2023    37.308043       7.330510  50.646211\n",
       "\n",
       "[5110 rows x 4 columns]"
      ]
     },
     "execution_count": 464,
     "metadata": {},
     "output_type": "execute_result"
    }
   ],
   "source": [
    "ruta = \"C:/Users/nahuc/Desktop/code/Python/Udemy/Data Science y Machine Learning/Día 8/Cuadernos para Prácticas/datos_meteorologicos.csv\"\n",
    "df = pd.read_csv(ruta)\n",
    "df"
   ]
  },
  {
   "cell_type": "markdown",
   "id": "bd5ba486",
   "metadata": {},
   "source": [
    "### 2. Realizar observaciones iniciales de los datos con Pandas."
   ]
  },
  {
   "cell_type": "code",
   "execution_count": 467,
   "id": "f6fb247d",
   "metadata": {
    "scrolled": true
   },
   "outputs": [
    {
     "data": {
      "text/plain": [
       "(5110, 4)"
      ]
     },
     "execution_count": 467,
     "metadata": {},
     "output_type": "execute_result"
    }
   ],
   "source": [
    "df.shape"
   ]
  },
  {
   "cell_type": "code",
   "execution_count": 469,
   "id": "e927b123-749c-4fe8-abb7-f12e9dedf9c3",
   "metadata": {},
   "outputs": [
    {
     "name": "stdout",
     "output_type": "stream",
     "text": [
      "<class 'pandas.core.frame.DataFrame'>\n",
      "RangeIndex: 5110 entries, 0 to 5109\n",
      "Data columns (total 4 columns):\n",
      " #   Column         Non-Null Count  Dtype  \n",
      "---  ------         --------------  -----  \n",
      " 0   Fecha          5110 non-null   object \n",
      " 1   Temperatura    4855 non-null   float64\n",
      " 2   Precipitación  4855 non-null   float64\n",
      " 3   Humedad        4855 non-null   float64\n",
      "dtypes: float64(3), object(1)\n",
      "memory usage: 159.8+ KB\n"
     ]
    }
   ],
   "source": [
    "df.info()"
   ]
  },
  {
   "cell_type": "code",
   "execution_count": 471,
   "id": "ba29c0da-0c16-4f43-830d-0ebba5d702cb",
   "metadata": {},
   "outputs": [
    {
     "data": {
      "text/html": [
       "<div>\n",
       "<style scoped>\n",
       "    .dataframe tbody tr th:only-of-type {\n",
       "        vertical-align: middle;\n",
       "    }\n",
       "\n",
       "    .dataframe tbody tr th {\n",
       "        vertical-align: top;\n",
       "    }\n",
       "\n",
       "    .dataframe thead th {\n",
       "        text-align: right;\n",
       "    }\n",
       "</style>\n",
       "<table border=\"1\" class=\"dataframe\">\n",
       "  <thead>\n",
       "    <tr style=\"text-align: right;\">\n",
       "      <th></th>\n",
       "      <th>Temperatura</th>\n",
       "      <th>Precipitación</th>\n",
       "      <th>Humedad</th>\n",
       "    </tr>\n",
       "  </thead>\n",
       "  <tbody>\n",
       "    <tr>\n",
       "      <th>count</th>\n",
       "      <td>4855.000000</td>\n",
       "      <td>4855.000000</td>\n",
       "      <td>4855.000000</td>\n",
       "    </tr>\n",
       "    <tr>\n",
       "      <th>mean</th>\n",
       "      <td>14.889296</td>\n",
       "      <td>9.901604</td>\n",
       "      <td>54.359061</td>\n",
       "    </tr>\n",
       "    <tr>\n",
       "      <th>std</th>\n",
       "      <td>14.440466</td>\n",
       "      <td>5.801842</td>\n",
       "      <td>26.096345</td>\n",
       "    </tr>\n",
       "    <tr>\n",
       "      <th>min</th>\n",
       "      <td>-9.996378</td>\n",
       "      <td>0.003008</td>\n",
       "      <td>10.014980</td>\n",
       "    </tr>\n",
       "    <tr>\n",
       "      <th>25%</th>\n",
       "      <td>2.651777</td>\n",
       "      <td>4.756907</td>\n",
       "      <td>31.866578</td>\n",
       "    </tr>\n",
       "    <tr>\n",
       "      <th>50%</th>\n",
       "      <td>14.693274</td>\n",
       "      <td>9.853698</td>\n",
       "      <td>54.254478</td>\n",
       "    </tr>\n",
       "    <tr>\n",
       "      <th>75%</th>\n",
       "      <td>27.381451</td>\n",
       "      <td>14.966997</td>\n",
       "      <td>77.029500</td>\n",
       "    </tr>\n",
       "    <tr>\n",
       "      <th>max</th>\n",
       "      <td>39.998201</td>\n",
       "      <td>19.999559</td>\n",
       "      <td>99.996582</td>\n",
       "    </tr>\n",
       "  </tbody>\n",
       "</table>\n",
       "</div>"
      ],
      "text/plain": [
       "       Temperatura  Precipitación      Humedad\n",
       "count  4855.000000    4855.000000  4855.000000\n",
       "mean     14.889296       9.901604    54.359061\n",
       "std      14.440466       5.801842    26.096345\n",
       "min      -9.996378       0.003008    10.014980\n",
       "25%       2.651777       4.756907    31.866578\n",
       "50%      14.693274       9.853698    54.254478\n",
       "75%      27.381451      14.966997    77.029500\n",
       "max      39.998201      19.999559    99.996582"
      ]
     },
     "execution_count": 471,
     "metadata": {},
     "output_type": "execute_result"
    }
   ],
   "source": [
    "df.describe()"
   ]
  },
  {
   "cell_type": "code",
   "execution_count": 473,
   "id": "be3522b4-b9a4-4ad0-ae35-a2b84a07198d",
   "metadata": {},
   "outputs": [
    {
     "data": {
      "text/html": [
       "<div>\n",
       "<style scoped>\n",
       "    .dataframe tbody tr th:only-of-type {\n",
       "        vertical-align: middle;\n",
       "    }\n",
       "\n",
       "    .dataframe tbody tr th {\n",
       "        vertical-align: top;\n",
       "    }\n",
       "\n",
       "    .dataframe thead th {\n",
       "        text-align: right;\n",
       "    }\n",
       "</style>\n",
       "<table border=\"1\" class=\"dataframe\">\n",
       "  <thead>\n",
       "    <tr style=\"text-align: right;\">\n",
       "      <th></th>\n",
       "      <th>Fecha</th>\n",
       "      <th>Temperatura</th>\n",
       "      <th>Precipitación</th>\n",
       "      <th>Humedad</th>\n",
       "    </tr>\n",
       "  </thead>\n",
       "  <tbody>\n",
       "    <tr>\n",
       "      <th>0</th>\n",
       "      <td>False</td>\n",
       "      <td>False</td>\n",
       "      <td>False</td>\n",
       "      <td>False</td>\n",
       "    </tr>\n",
       "    <tr>\n",
       "      <th>1</th>\n",
       "      <td>False</td>\n",
       "      <td>False</td>\n",
       "      <td>False</td>\n",
       "      <td>False</td>\n",
       "    </tr>\n",
       "    <tr>\n",
       "      <th>2</th>\n",
       "      <td>False</td>\n",
       "      <td>False</td>\n",
       "      <td>False</td>\n",
       "      <td>False</td>\n",
       "    </tr>\n",
       "    <tr>\n",
       "      <th>3</th>\n",
       "      <td>False</td>\n",
       "      <td>False</td>\n",
       "      <td>False</td>\n",
       "      <td>False</td>\n",
       "    </tr>\n",
       "    <tr>\n",
       "      <th>4</th>\n",
       "      <td>False</td>\n",
       "      <td>False</td>\n",
       "      <td>False</td>\n",
       "      <td>False</td>\n",
       "    </tr>\n",
       "    <tr>\n",
       "      <th>...</th>\n",
       "      <td>...</td>\n",
       "      <td>...</td>\n",
       "      <td>...</td>\n",
       "      <td>...</td>\n",
       "    </tr>\n",
       "    <tr>\n",
       "      <th>5105</th>\n",
       "      <td>False</td>\n",
       "      <td>False</td>\n",
       "      <td>False</td>\n",
       "      <td>False</td>\n",
       "    </tr>\n",
       "    <tr>\n",
       "      <th>5106</th>\n",
       "      <td>False</td>\n",
       "      <td>False</td>\n",
       "      <td>False</td>\n",
       "      <td>False</td>\n",
       "    </tr>\n",
       "    <tr>\n",
       "      <th>5107</th>\n",
       "      <td>False</td>\n",
       "      <td>False</td>\n",
       "      <td>False</td>\n",
       "      <td>False</td>\n",
       "    </tr>\n",
       "    <tr>\n",
       "      <th>5108</th>\n",
       "      <td>False</td>\n",
       "      <td>True</td>\n",
       "      <td>True</td>\n",
       "      <td>True</td>\n",
       "    </tr>\n",
       "    <tr>\n",
       "      <th>5109</th>\n",
       "      <td>False</td>\n",
       "      <td>False</td>\n",
       "      <td>False</td>\n",
       "      <td>False</td>\n",
       "    </tr>\n",
       "  </tbody>\n",
       "</table>\n",
       "<p>5110 rows × 4 columns</p>\n",
       "</div>"
      ],
      "text/plain": [
       "      Fecha  Temperatura  Precipitación  Humedad\n",
       "0     False        False          False    False\n",
       "1     False        False          False    False\n",
       "2     False        False          False    False\n",
       "3     False        False          False    False\n",
       "4     False        False          False    False\n",
       "...     ...          ...            ...      ...\n",
       "5105  False        False          False    False\n",
       "5106  False        False          False    False\n",
       "5107  False        False          False    False\n",
       "5108  False         True           True     True\n",
       "5109  False        False          False    False\n",
       "\n",
       "[5110 rows x 4 columns]"
      ]
     },
     "execution_count": 473,
     "metadata": {},
     "output_type": "execute_result"
    }
   ],
   "source": [
    "df.isnull()"
   ]
  },
  {
   "cell_type": "markdown",
   "id": "9a6f36ea",
   "metadata": {},
   "source": [
    "### 3. Convertir las columnas del DataFrame en arrays de NumPy."
   ]
  },
  {
   "cell_type": "code",
   "execution_count": 476,
   "id": "04ee9183",
   "metadata": {},
   "outputs": [
    {
     "data": {
      "text/plain": [
       "array([17.4406752 , 25.75946832, 20.1381688 , ..., 29.87359717,\n",
       "               nan, 37.30804318])"
      ]
     },
     "execution_count": 476,
     "metadata": {},
     "output_type": "execute_result"
    }
   ],
   "source": [
    "temperatura = df[\"Temperatura\"].to_numpy()\n",
    "precipitacion = df[\"Precipitación\"].to_numpy()\n",
    "humedad = df[\"Humedad\"].to_numpy()\n",
    "temperatura"
   ]
  },
  {
   "cell_type": "markdown",
   "id": "ea34bb17",
   "metadata": {},
   "source": [
    "### 4. Identificar los datos faltantes en los arrays, y reemplazarlos por el promedio de los valores del respectivo array."
   ]
  },
  {
   "cell_type": "code",
   "execution_count": 479,
   "id": "65f3ba49",
   "metadata": {},
   "outputs": [],
   "source": [
    "#Verifico si tienen nulos\n",
    "temperatura_nulos = np.isnan(temperatura)\n",
    "precipitacion_nulos = np.isnan(precipitacion)\n",
    "humedad_nulos = np.isnan(humedad)"
   ]
  },
  {
   "cell_type": "code",
   "execution_count": 481,
   "id": "ef4c0ee0-4748-4ab7-a6bd-807744ec4d08",
   "metadata": {},
   "outputs": [],
   "source": [
    "#Obtengo el promedio sin contas los nulos\n",
    "temp_mean = np.nanmean(temperatura) \n",
    "precip_mean = np.nanmean(precipitacion)\n",
    "hum_mean = np.nanmean(humedad)"
   ]
  },
  {
   "cell_type": "code",
   "execution_count": 483,
   "id": "3027897a-4046-4d45-9781-c4d3eeee6c3f",
   "metadata": {},
   "outputs": [],
   "source": [
    "temp_con_promedio = np.where(np.isnan(temperatura) ,temp_mean , temperatura)\n",
    "precip_con_promedio = np.where(np.isnan(precipitacion), precip_mean , precipitacion)\n",
    "hum_con_promedio = np.where(np.isnan(humedad), precip_mean , humedad)"
   ]
  },
  {
   "cell_type": "markdown",
   "id": "e9cc83f2",
   "metadata": {},
   "source": [
    "### 5. Realizar análisis estadísticos básicos.\n",
    "\n",
    "##### Temperatura promedio"
   ]
  },
  {
   "cell_type": "code",
   "execution_count": 486,
   "id": "35631de2",
   "metadata": {},
   "outputs": [
    {
     "data": {
      "text/plain": [
       "14.889295723531713"
      ]
     },
     "execution_count": 486,
     "metadata": {},
     "output_type": "execute_result"
    }
   ],
   "source": [
    "temperatura_promedio = np.nanmean(temp_con_promedio)\n",
    "temperatura_promedio"
   ]
  },
  {
   "cell_type": "markdown",
   "id": "3d5b50ca",
   "metadata": {},
   "source": [
    "##### Total de precipitaciones"
   ]
  },
  {
   "cell_type": "code",
   "execution_count": 489,
   "id": "55ea942d",
   "metadata": {},
   "outputs": [
    {
     "data": {
      "text/plain": [
       "50597.19438939993"
      ]
     },
     "execution_count": 489,
     "metadata": {},
     "output_type": "execute_result"
    }
   ],
   "source": [
    "precipitaciones_total = np.sum(precip_con_promedio)\n",
    "precipitaciones_total"
   ]
  },
  {
   "cell_type": "markdown",
   "id": "37408d44",
   "metadata": {},
   "source": [
    "##### Máxima humedad registrada"
   ]
  },
  {
   "cell_type": "code",
   "execution_count": 492,
   "id": "915e24c5",
   "metadata": {},
   "outputs": [
    {
     "data": {
      "text/plain": [
       "99.99658156071747"
      ]
     },
     "execution_count": 492,
     "metadata": {},
     "output_type": "execute_result"
    }
   ],
   "source": [
    "humedad_maxima = np.max(hum_con_promedio)\n",
    "humedad_maxima"
   ]
  },
  {
   "cell_type": "markdown",
   "id": "feabf8f5",
   "metadata": {},
   "source": [
    "##### Fecha más calurosa"
   ]
  },
  {
   "cell_type": "code",
   "execution_count": 499,
   "id": "bedde039",
   "metadata": {},
   "outputs": [
    {
     "data": {
      "text/plain": [
       "datetime.date(2017, 7, 12)"
      ]
     },
     "execution_count": 499,
     "metadata": {},
     "output_type": "execute_result"
    }
   ],
   "source": [
    "df[\"Fecha\"] = pd.to_datetime(df[\"Fecha\"], format = \"%d/%m/%Y\")\n",
    "temperatura_maxima = df[\"Temperatura\"].max()\n",
    "fecha_calurosa = df.loc[df[\"Temperatura\"] == temperatura_maxima, \"Fecha\"].dt.date.iloc[0]\n",
    "fecha_calurosa"
   ]
  },
  {
   "cell_type": "markdown",
   "id": "f30a99e0",
   "metadata": {},
   "source": [
    "##### Fecha más fría"
   ]
  },
  {
   "cell_type": "code",
   "execution_count": 502,
   "id": "68f820f0",
   "metadata": {},
   "outputs": [
    {
     "data": {
      "text/plain": [
       "datetime.date(2020, 7, 23)"
      ]
     },
     "execution_count": 502,
     "metadata": {},
     "output_type": "execute_result"
    }
   ],
   "source": [
    "temperatura_min = df[\"Temperatura\"].min()\n",
    "fecha_fria = df.loc[df[\"Temperatura\"] == temperatura_min,\"Fecha\"].dt.date.iloc[0]\n",
    "fecha_fria"
   ]
  },
  {
   "cell_type": "markdown",
   "id": "ff7d173c",
   "metadata": {},
   "source": [
    "### 6. Exportar los resultados a un nuevo archivo CSV."
   ]
  },
  {
   "cell_type": "code",
   "execution_count": 505,
   "id": "e0cdfaee",
   "metadata": {},
   "outputs": [],
   "source": [
    "ruta = \"C:/Users/nahuc/Desktop/code/Python/Udemy/Data Science y Machine Learning/Día 8/Cuadernos para Prácticas/Analisis_datos_meteorologicos.csv\"\n",
    "ruta2 = \"C:/Users/nahuc/Desktop/code/Python/Udemy/Data Science y Machine Learning/Día 8/Cuadernos para Prácticas/Analisis_datos_meteorologicos.xlsx\""
   ]
  },
  {
   "cell_type": "code",
   "execution_count": 507,
   "id": "2f40e728-806f-4ed4-9c5c-f1db2e225618",
   "metadata": {},
   "outputs": [
    {
     "data": {
      "text/html": [
       "<div>\n",
       "<style scoped>\n",
       "    .dataframe tbody tr th:only-of-type {\n",
       "        vertical-align: middle;\n",
       "    }\n",
       "\n",
       "    .dataframe tbody tr th {\n",
       "        vertical-align: top;\n",
       "    }\n",
       "\n",
       "    .dataframe thead th {\n",
       "        text-align: right;\n",
       "    }\n",
       "</style>\n",
       "<table border=\"1\" class=\"dataframe\">\n",
       "  <thead>\n",
       "    <tr style=\"text-align: right;\">\n",
       "      <th></th>\n",
       "      <th>Temperatura promedio</th>\n",
       "      <th>Precipitaciones_total</th>\n",
       "      <th>Máxima humedad registrada</th>\n",
       "      <th>Fecha más calurosa</th>\n",
       "      <th>Fecha más fría</th>\n",
       "    </tr>\n",
       "  </thead>\n",
       "  <tbody>\n",
       "    <tr>\n",
       "      <th>0</th>\n",
       "      <td>14.889296</td>\n",
       "      <td>50597.194389</td>\n",
       "      <td>99.996582</td>\n",
       "      <td>2017-07-12</td>\n",
       "      <td>2020-07-23</td>\n",
       "    </tr>\n",
       "  </tbody>\n",
       "</table>\n",
       "</div>"
      ],
      "text/plain": [
       "   Temperatura promedio  Precipitaciones_total  Máxima humedad registrada  \\\n",
       "0             14.889296           50597.194389                  99.996582   \n",
       "\n",
       "  Fecha más calurosa Fecha más fría  \n",
       "0         2017-07-12     2020-07-23  "
      ]
     },
     "execution_count": 507,
     "metadata": {},
     "output_type": "execute_result"
    }
   ],
   "source": [
    "df=pd.DataFrame({\n",
    "        \"Temperatura promedio\" : [temperatura_promedio],\n",
    "        \"Precipitaciones_total\" : [precipitaciones_total],\n",
    "        \"Máxima humedad registrada\" : [humedad_maxima],\n",
    "        \"Fecha más calurosa\" : [fecha_calurosa],\n",
    "        \"Fecha más fría\" : [fecha_fria],\n",
    "})\n",
    "df"
   ]
  },
  {
   "cell_type": "code",
   "execution_count": 509,
   "id": "65e40f12-b87e-407a-a035-19edca0d08cc",
   "metadata": {},
   "outputs": [],
   "source": [
    "df.to_csv(ruta,index=False)"
   ]
  },
  {
   "cell_type": "code",
   "execution_count": 511,
   "id": "ab0e5455-77a2-415a-af89-9c285d6f7bd0",
   "metadata": {},
   "outputs": [],
   "source": [
    "df.to_excel(ruta2,index=False)"
   ]
  },
  {
   "cell_type": "code",
   "execution_count": null,
   "id": "44188752-d971-452b-a154-f2ef521d9cd7",
   "metadata": {},
   "outputs": [],
   "source": []
  }
 ],
 "metadata": {
  "kernelspec": {
   "display_name": "Python 3 (ipykernel)",
   "language": "python",
   "name": "python3"
  },
  "language_info": {
   "codemirror_mode": {
    "name": "ipython",
    "version": 3
   },
   "file_extension": ".py",
   "mimetype": "text/x-python",
   "name": "python",
   "nbconvert_exporter": "python",
   "pygments_lexer": "ipython3",
   "version": "3.11.7"
  }
 },
 "nbformat": 4,
 "nbformat_minor": 5
}
