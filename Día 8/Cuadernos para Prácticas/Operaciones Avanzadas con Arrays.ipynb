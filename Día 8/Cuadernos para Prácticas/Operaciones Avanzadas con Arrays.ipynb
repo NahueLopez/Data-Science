{
 "cells": [
  {
   "cell_type": "code",
   "execution_count": 2,
   "id": "84f5736b",
   "metadata": {},
   "outputs": [],
   "source": [
    "import numpy as np"
   ]
  },
  {
   "cell_type": "code",
   "execution_count": 3,
   "id": "b4d88ecb",
   "metadata": {},
   "outputs": [
    {
     "data": {
      "text/plain": [
       "array([1, 2, 3])"
      ]
     },
     "execution_count": 3,
     "metadata": {},
     "output_type": "execute_result"
    }
   ],
   "source": [
    "array1 = np.array([1, 2, 3])\n",
    "array1"
   ]
  },
  {
   "cell_type": "code",
   "execution_count": 4,
   "id": "4bd36f98",
   "metadata": {},
   "outputs": [
    {
     "data": {
      "text/plain": [
       "array([[ 0],\n",
       "       [10],\n",
       "       [20],\n",
       "       [30]])"
      ]
     },
     "execution_count": 4,
     "metadata": {},
     "output_type": "execute_result"
    }
   ],
   "source": [
    "array2 = np.array([[0], [10], [20], [30]])\n",
    "array2"
   ]
  },
  {
   "cell_type": "code",
   "execution_count": 8,
   "id": "9ffa3191",
   "metadata": {},
   "outputs": [
    {
     "data": {
      "text/plain": [
       "array([[ 1,  2,  3],\n",
       "       [11, 12, 13],\n",
       "       [21, 22, 23],\n",
       "       [31, 32, 33]])"
      ]
     },
     "execution_count": 8,
     "metadata": {},
     "output_type": "execute_result"
    }
   ],
   "source": [
    "broadcast_suma = array2 + array1\n",
    "broadcast_suma"
   ]
  },
  {
   "cell_type": "code",
   "execution_count": 10,
   "id": "6ab83fdb-e56f-494c-8c3b-cc334fed4ad2",
   "metadata": {},
   "outputs": [
    {
     "data": {
      "text/plain": [
       "array([[ 0,  0,  0],\n",
       "       [10, 20, 30],\n",
       "       [20, 40, 60],\n",
       "       [30, 60, 90]])"
      ]
     },
     "execution_count": 10,
     "metadata": {},
     "output_type": "execute_result"
    }
   ],
   "source": [
    "broadcast_multi = array2 * array1\n",
    "broadcast_multi"
   ]
  },
  {
   "cell_type": "code",
   "execution_count": 14,
   "id": "bbfbec2a-9014-449e-8b7a-93f2fab7c033",
   "metadata": {},
   "outputs": [],
   "source": [
    "a = np.array([1,2,3])\n",
    "b = np.array([4,5,6])"
   ]
  },
  {
   "cell_type": "code",
   "execution_count": 16,
   "id": "ad3be666-4eb4-404f-a9b0-4526e7da7251",
   "metadata": {},
   "outputs": [
    {
     "data": {
      "text/plain": [
       "array([5, 7, 9])"
      ]
     },
     "execution_count": 16,
     "metadata": {},
     "output_type": "execute_result"
    }
   ],
   "source": [
    "resultado = np.add(a,b)\n",
    "resultado"
   ]
  },
  {
   "cell_type": "code",
   "execution_count": 26,
   "id": "dbaffb05-780e-4ac2-9fc1-29ad20cb4dc0",
   "metadata": {},
   "outputs": [
    {
     "data": {
      "text/plain": [
       "array([-3, -3, -3])"
      ]
     },
     "execution_count": 26,
     "metadata": {},
     "output_type": "execute_result"
    }
   ],
   "source": [
    "resultado1 = np.subtract(a, b)\n",
    "resultado1"
   ]
  },
  {
   "cell_type": "code",
   "execution_count": 30,
   "id": "963ea3de-c885-49fb-8b7a-e8c652f504ad",
   "metadata": {},
   "outputs": [
    {
     "data": {
      "text/plain": [
       "array([ 4, 10, 18])"
      ]
     },
     "execution_count": 30,
     "metadata": {},
     "output_type": "execute_result"
    }
   ],
   "source": [
    "resultado2 = np.multiply(a, b) #Multiplicacion\n",
    "resultado2"
   ]
  },
  {
   "cell_type": "code",
   "execution_count": 32,
   "id": "0115b497-aada-4f3a-876c-e315d383222b",
   "metadata": {},
   "outputs": [
    {
     "data": {
      "text/plain": [
       "array([0.25, 0.4 , 0.5 ])"
      ]
     },
     "execution_count": 32,
     "metadata": {},
     "output_type": "execute_result"
    }
   ],
   "source": [
    "resultado3 = np.divide(a, b) #Division\n",
    "resultado3"
   ]
  },
  {
   "cell_type": "code",
   "execution_count": 36,
   "id": "44ffd7f0-4c2f-4b9e-a962-b72d068d22ca",
   "metadata": {},
   "outputs": [
    {
     "data": {
      "text/plain": [
       "array([ 2.71828183,  7.3890561 , 20.08553692])"
      ]
     },
     "execution_count": 36,
     "metadata": {},
     "output_type": "execute_result"
    }
   ],
   "source": [
    "resultado4 = np.exp(a) #Exponencial\n",
    "resultado4"
   ]
  },
  {
   "cell_type": "code",
   "execution_count": 38,
   "id": "94f47c0e-303f-4981-b415-15deec37d21a",
   "metadata": {},
   "outputs": [
    {
     "data": {
      "text/plain": [
       "array([0.        , 0.69314718, 1.09861229])"
      ]
     },
     "execution_count": 38,
     "metadata": {},
     "output_type": "execute_result"
    }
   ],
   "source": [
    "resultado5 = np.log(a) #Logaritmo base\n",
    "resultado5"
   ]
  },
  {
   "cell_type": "code",
   "execution_count": 40,
   "id": "f3758bd7-6b5d-4633-b437-687db0db2b98",
   "metadata": {},
   "outputs": [
    {
     "data": {
      "text/plain": [
       "array([0.       , 1.       , 1.5849625])"
      ]
     },
     "execution_count": 40,
     "metadata": {},
     "output_type": "execute_result"
    }
   ],
   "source": [
    "resultado6 = np.log2(a) #Logaritmo base 2,si le agregamos u numero al lado del log lo agregamos\n",
    "resultado6"
   ]
  },
  {
   "cell_type": "code",
   "execution_count": 42,
   "id": "6c7570ed-493f-4c7e-a877-f370e2ce6751",
   "metadata": {},
   "outputs": [
    {
     "data": {
      "text/plain": [
       "array([1.        , 1.41421356, 1.73205081])"
      ]
     },
     "execution_count": 42,
     "metadata": {},
     "output_type": "execute_result"
    }
   ],
   "source": [
    "resultado7 = np.sqrt(a) #Raiz cuadrada\n",
    "resultado7"
   ]
  },
  {
   "cell_type": "code",
   "execution_count": null,
   "id": "2dae34e4-bd3f-4f69-8a42-cddb5b984ce8",
   "metadata": {},
   "outputs": [],
   "source": []
  }
 ],
 "metadata": {
  "kernelspec": {
   "display_name": "Python 3 (ipykernel)",
   "language": "python",
   "name": "python3"
  },
  "language_info": {
   "codemirror_mode": {
    "name": "ipython",
    "version": 3
   },
   "file_extension": ".py",
   "mimetype": "text/x-python",
   "name": "python",
   "nbconvert_exporter": "python",
   "pygments_lexer": "ipython3",
   "version": "3.11.7"
  }
 },
 "nbformat": 4,
 "nbformat_minor": 5
}
