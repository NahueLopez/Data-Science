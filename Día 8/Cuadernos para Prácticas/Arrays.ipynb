{
 "cells": [
  {
   "cell_type": "code",
   "execution_count": 16,
   "id": "a810be89",
   "metadata": {},
   "outputs": [],
   "source": [
    "import numpy as np\n",
    "import time"
   ]
  },
  {
   "cell_type": "code",
   "execution_count": 18,
   "id": "e805f2d7",
   "metadata": {},
   "outputs": [
    {
     "data": {
      "text/plain": [
       "array([1, 2, 3, 4, 5])"
      ]
     },
     "execution_count": 18,
     "metadata": {},
     "output_type": "execute_result"
    }
   ],
   "source": [
    "mi_array = np.array([1,2,3,4,5])\n",
    "mi_array"
   ]
  },
  {
   "cell_type": "code",
   "execution_count": 20,
   "id": "0dda9ec8-3b4b-4c4f-be54-29296db7f505",
   "metadata": {},
   "outputs": [
    {
     "data": {
      "text/plain": [
       "numpy.ndarray"
      ]
     },
     "execution_count": 20,
     "metadata": {},
     "output_type": "execute_result"
    }
   ],
   "source": [
    "type(mi_array)"
   ]
  },
  {
   "cell_type": "code",
   "execution_count": 22,
   "id": "12da9a26-0f91-4c45-b0f0-fe7ca6a38d21",
   "metadata": {},
   "outputs": [],
   "source": [
    "lista_grande = list(range(1000000))\n",
    "array_grande = np.array(lista_grande)"
   ]
  },
  {
   "cell_type": "code",
   "execution_count": 24,
   "id": "339b1547-a0bd-4bd8-a176-813f7ac5909f",
   "metadata": {},
   "outputs": [
    {
     "data": {
      "text/plain": [
       "list"
      ]
     },
     "execution_count": 24,
     "metadata": {},
     "output_type": "execute_result"
    }
   ],
   "source": [
    "type(lista_grande)"
   ]
  },
  {
   "cell_type": "code",
   "execution_count": 26,
   "id": "aec64612-5f2d-4ff9-a974-753be1c32625",
   "metadata": {},
   "outputs": [
    {
     "data": {
      "text/plain": [
       "numpy.ndarray"
      ]
     },
     "execution_count": 26,
     "metadata": {},
     "output_type": "execute_result"
    }
   ],
   "source": [
    "type(array_grande)"
   ]
  },
  {
   "cell_type": "code",
   "execution_count": 28,
   "id": "42ab724d-4335-4888-ad5a-775d465a9afc",
   "metadata": {},
   "outputs": [
    {
     "name": "stdout",
     "output_type": "stream",
     "text": [
      "Tiempo lista: 0.10719609260559082\n"
     ]
    }
   ],
   "source": [
    "inicio_lista = time.time()\n",
    "for i in lista_grande:\n",
    "    i**2\n",
    "fin_lista = time.time()\n",
    "print(\"Tiempo lista:\", fin_lista - inicio_lista)"
   ]
  },
  {
   "cell_type": "code",
   "execution_count": 30,
   "id": "47ef87c2-adb0-416d-b74a-532111427f5d",
   "metadata": {},
   "outputs": [
    {
     "name": "stdout",
     "output_type": "stream",
     "text": [
      "Tiempo array: 0.003000974655151367\n"
     ]
    }
   ],
   "source": [
    "inicio_array = time.time()\n",
    "array_grande **2\n",
    "fin_array = time.time()\n",
    "print(\"Tiempo array:\", fin_array - inicio_array)"
   ]
  },
  {
   "cell_type": "code",
   "execution_count": null,
   "id": "063df3f7-7113-453f-a4ee-11b5a06b7c72",
   "metadata": {},
   "outputs": [],
   "source": []
  }
 ],
 "metadata": {
  "kernelspec": {
   "display_name": "Python 3 (ipykernel)",
   "language": "python",
   "name": "python3"
  },
  "language_info": {
   "codemirror_mode": {
    "name": "ipython",
    "version": 3
   },
   "file_extension": ".py",
   "mimetype": "text/x-python",
   "name": "python",
   "nbconvert_exporter": "python",
   "pygments_lexer": "ipython3",
   "version": "3.11.7"
  }
 },
 "nbformat": 4,
 "nbformat_minor": 5
}
