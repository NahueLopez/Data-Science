{
 "cells": [
  {
   "cell_type": "code",
   "execution_count": 4,
   "id": "826c14e4",
   "metadata": {},
   "outputs": [],
   "source": [
    "import numpy as np"
   ]
  },
  {
   "cell_type": "code",
   "execution_count": 6,
   "id": "e4e66b29-5c50-47c0-82b7-9dca25c077f6",
   "metadata": {},
   "outputs": [
    {
     "data": {
      "text/plain": [
       "array([ 1.,  2., nan,  4.,  5.])"
      ]
     },
     "execution_count": 6,
     "metadata": {},
     "output_type": "execute_result"
    }
   ],
   "source": [
    "array = np.array([1,2,np.nan,4,5])\n",
    "array"
   ]
  },
  {
   "cell_type": "code",
   "execution_count": 8,
   "id": "f5220e0c-9967-43be-8923-a01bc2a21c1e",
   "metadata": {},
   "outputs": [
    {
     "data": {
      "text/plain": [
       "array([False, False,  True, False, False])"
      ]
     },
     "execution_count": 8,
     "metadata": {},
     "output_type": "execute_result"
    }
   ],
   "source": [
    "np.isnan(array)"
   ]
  },
  {
   "cell_type": "code",
   "execution_count": 10,
   "id": "3b83e201-c502-4169-93b0-bcec3dc25a6a",
   "metadata": {},
   "outputs": [
    {
     "data": {
      "text/plain": [
       "nan"
      ]
     },
     "execution_count": 10,
     "metadata": {},
     "output_type": "execute_result"
    }
   ],
   "source": [
    "np.mean(array)"
   ]
  },
  {
   "cell_type": "code",
   "execution_count": 12,
   "id": "df0ed51b-6bb9-4115-b4fd-8ff92f752348",
   "metadata": {},
   "outputs": [
    {
     "data": {
      "text/plain": [
       "3.0"
      ]
     },
     "execution_count": 12,
     "metadata": {},
     "output_type": "execute_result"
    }
   ],
   "source": [
    "np.nanmean(array) #Ignor al numero no valido!"
   ]
  },
  {
   "cell_type": "code",
   "execution_count": 22,
   "id": "ec9b0812-4982-4c5d-bbd1-0d4b9b023f27",
   "metadata": {},
   "outputs": [
    {
     "data": {
      "text/plain": [
       "array([1., 2., 0., 4., 5.])"
      ]
     },
     "execution_count": 22,
     "metadata": {},
     "output_type": "execute_result"
    }
   ],
   "source": [
    "array_con_0 = np.where(np.isnan(array), 0, array) #Nos muestra donde esta el 0\n",
    "array_con_0"
   ]
  },
  {
   "cell_type": "code",
   "execution_count": 32,
   "id": "3fbf575f-0e9f-4ca2-a1f6-94b13791e412",
   "metadata": {},
   "outputs": [
    {
     "data": {
      "text/plain": [
       "array([1., 2., 3., 4., 5.])"
      ]
     },
     "execution_count": 32,
     "metadata": {},
     "output_type": "execute_result"
    }
   ],
   "source": [
    "promedio = np.nanmean(array)\n",
    "array_con_promedio = np.where(np.isnan(array), promedio, array)\n",
    "array_con_promedio"
   ]
  },
  {
   "cell_type": "code",
   "execution_count": 36,
   "id": "47e5f86e-b677-4d2c-b7a7-cf40f591493f",
   "metadata": {},
   "outputs": [
    {
     "data": {
      "text/plain": [
       "array([1., 2., 4., 5.])"
      ]
     },
     "execution_count": 36,
     "metadata": {},
     "output_type": "execute_result"
    }
   ],
   "source": [
    "array_filtrado = array[~np.isnan(array)] #Simoblo Alt 126\n",
    "array_filtrado"
   ]
  },
  {
   "cell_type": "code",
   "execution_count": null,
   "id": "8ee208ad-f42c-4ffc-85ba-db6d897f8985",
   "metadata": {},
   "outputs": [],
   "source": []
  }
 ],
 "metadata": {
  "kernelspec": {
   "display_name": "Python 3 (ipykernel)",
   "language": "python",
   "name": "python3"
  },
  "language_info": {
   "codemirror_mode": {
    "name": "ipython",
    "version": 3
   },
   "file_extension": ".py",
   "mimetype": "text/x-python",
   "name": "python",
   "nbconvert_exporter": "python",
   "pygments_lexer": "ipython3",
   "version": "3.11.7"
  }
 },
 "nbformat": 4,
 "nbformat_minor": 5
}
