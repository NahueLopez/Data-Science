{
 "cells": [
  {
   "cell_type": "markdown",
   "id": "d7bf2362",
   "metadata": {},
   "source": [
    "## Proyecto del Día 13 - Juego de Navegación en un Laberinto\n",
    "\n",
    "Este proyecto tiene como objetivo desarrollar un entorno de laberinto simple y aplicar un algoritmo de **Aprendizaje por Refuerzo** para enseñar a una IA a navegar desde un punto inicial hasta un objetivo.\n",
    "\n",
    "Dada la naturaleza de este proyecto, considero que el algoritmo más adecuado para este tipo de probleas es **Q-Learning**, por su facilidad de implelentación y comprensión, su estabilidad y su relación entre la exploración y la explotación.\n",
    "\n",
    "Por esa razón te propongo resolverlo usando ese algoritmo, aunque dejo a tu criterio si quieres resolverlo con otro algoritmo de tu elección. Siempre estaré a favor de que investigues, y expandas las habilidades propuestas por tu cuenta.\n",
    "\n",
    "### Descripción del Laberinto:\n",
    "\n",
    "El laberinto se representa como una matriz de dos dimensiones, donde cada elemento puede ser:\n",
    "+ un camino libre (0)\n",
    "+ un obstáculo (1)\n",
    "+ el objetivo (G)\n",
    "\n",
    "La tarea es desarrollar un agente que pueda aprender a encontrar el camino desde un punto de inicio hasta el objetivo evitando obstáculos.\n",
    "\n",
    "\n",
    "### Creación del Laberinto\n",
    "\n",
    "Debido a que el desafío de hoy es bastante complejo, y que el objetivo final no se trata de que sepas desarrollar laberintos, sino sistemas para resolverlos, voy a facilitar la tarea entregando en este cuaderno el código para generar nuestros laberintos.\n",
    "\n",
    "Tu parte será la siguiente, que es diseñar y entrenar un modelo de Q-Learning para resolver el laberinto de la manera mpas eficiente, y luego mostrar una visualización sobre cómo lo ha hecho.\n",
    "\n",
    "Te deseo toda la suerte del mundo, y sobre todo, que te diviertas de a montones."
   ]
  },
  {
   "cell_type": "code",
   "execution_count": 3,
   "id": "3e7ecc11",
   "metadata": {},
   "outputs": [],
   "source": [
    "# Librerías necesarias para todo el ejercicio\n",
    "import numpy as np\n",
    "import matplotlib.pyplot as plt\n",
    "import random"
   ]
  },
  {
   "cell_type": "code",
   "execution_count": 4,
   "id": "6370346d",
   "metadata": {},
   "outputs": [],
   "source": [
    "# Función para crear el laberinto\n",
    "def crear_laberinto(tamanio, porcentaje_paredes=20, inicio=(0, 0), meta=None):\n",
    "    laberinto = np.zeros((tamanio, tamanio))\n",
    "    numero_paredes = int((tamanio * tamanio) * porcentaje_paredes / 100)\n",
    "    \n",
    "    # Ubicar paredes\n",
    "    for pared in range(numero_paredes):\n",
    "        x, y = random.randint(0, tamanio-1), random.randint(0, tamanio-1)\n",
    "        \n",
    "        # Cuidar que inicio y meta no sean paredes\n",
    "        if (x, y) != inicio and (meta is None or (x, y) != meta):\n",
    "            laberinto[x, y] = 1\n",
    "            \n",
    "    # Ubicar la meta\n",
    "    if meta:\n",
    "        laberinto[meta] = 9  # Representa la meta con 9\n",
    "    else:\n",
    "        # Ubicar la meta aleatoriamente si no está especificado\n",
    "        while True:\n",
    "            x, y = random.randint(0, tamanio-1), random.randint(0, tamanio-1)\n",
    "            if laberinto[x, y] == 0 and (x, y) != inicio:\n",
    "                laberinto[x, y] = 9\n",
    "                break\n",
    "    \n",
    "    return laberinto"
   ]
  },
  {
   "cell_type": "code",
   "execution_count": 5,
   "id": "6c648cc8",
   "metadata": {},
   "outputs": [],
   "source": [
    "# Función para visualizar el laberinto\n",
    "def ver_laberinto(laberinto):\n",
    "    plt.figure(figsize=(5, 5))\n",
    "    plt.imshow(laberinto, cmap='hot', interpolation='nearest')\n",
    "    plt.colorbar();"
   ]
  },
  {
   "cell_type": "code",
   "execution_count": 9,
   "id": "10e052cc",
   "metadata": {},
   "outputs": [
    {
     "data": {
      "image/png": "[encoded data removed]",
      "text/plain": [
       "<Figure size 500x500 with 2 Axes>"
      ]
     },
     "metadata": {},
     "output_type": "display_data"
    }
   ],
   "source": [
    "# Ejemplo de crear y mostrar laberintos\n",
    "laberinto = crear_laberinto(10, 20, inicio=(0, 0), meta=(9, 9))\n",
    "ver_laberinto(laberinto)"
   ]
  },
  {
   "cell_type": "markdown",
   "id": "7f986ed5",
   "metadata": {},
   "source": [
    "### Ahora te toca a ti\n",
    "\n",
    "Lo que sigue es implementar todo el código para que un algoritmo de Q-Learning encuentre la manera más eficiente de llegar a la meta. Voy a dejarte los pasos que considero que son los necesarios para lograrlo\n",
    "\n",
    "##### 1. Parámetros para el algoritmo Q-Learning"
   ]
  },
  {
   "cell_type": "code",
   "execution_count": 12,
   "id": "52fbd007-fc78-4ab0-b5f6-e0533b14e666",
   "metadata": {},
   "outputs": [],
   "source": [
    "alpha = 0.1 #Nivel de Aprendizaje\n",
    "gamma = 0.9 #Factor de descuento\n",
    "epsilon = 0.1 #Variacion de exploracion\n",
    "num_episodios = 500 #Cantidad de repeticiones"
   ]
  },
  {
   "cell_type": "markdown",
   "id": "125709aa",
   "metadata": {},
   "source": [
    "##### 2. Función para elegir acciones equilibrando entre explotación y exploración"
   ]
  },
  {
   "cell_type": "code",
   "execution_count": 15,
   "id": "abbd3e3c",
   "metadata": {},
   "outputs": [],
   "source": [
    "def epsilon_codicioso(Q, estado, tamanio_estado):\n",
    "    if random.uniform(0, 1) < epsilon:\n",
    "        return random.randint(0, 3)  # Suponemos 4 acciones posibles: arriba, abajo, izquierda, derecha\n",
    "    else:\n",
    "        return np.argmax(Q[estado])"
   ]
  },
  {
   "cell_type": "markdown",
   "id": "003a6550",
   "metadata": {},
   "source": [
    "##### 3. Función para simular la acción en el laberinto"
   ]
  },
  {
   "cell_type": "code",
   "execution_count": 18,
   "id": "f719b2e4",
   "metadata": {},
   "outputs": [],
   "source": [
    "def ejecutar_accion(estado, accion, laberinto, tamanio):\n",
    "    fila, columna = divmod(estado, tamanio)\n",
    "    if accion == 0 and fila > 0:  # arriba\n",
    "        fila -= 1\n",
    "    elif accion == 1 and fila < tamanio - 1:  # abajo\n",
    "        fila += 1\n",
    "    elif accion == 2 and columna > 0:  # izquierda\n",
    "        columna -= 1\n",
    "    elif accion == 3 and columna < tamanio - 1:  # derecha\n",
    "        columna += 1\n",
    "    \n",
    "    siguiente_estado = fila * tamanio + columna\n",
    "    if laberinto[fila, columna] == 1:\n",
    "        recompensa = -100  # Penalización por golpear un muro\n",
    "        siguiente_estado = estado  # El agente permanece en el mismo lugar si golpea un muro\n",
    "        terminado = False\n",
    "    elif laberinto[fila, columna] == 9:\n",
    "        recompensa = 100  # Recompensa por alcanzar el objetivo\n",
    "        terminado = True\n",
    "    else:\n",
    "        recompensa = -1  # Penalización menor por cada paso para fomentar soluciones más rápidas\n",
    "        terminado = False\n",
    "    return siguiente_estado, recompensa, terminado"
   ]
  },
  {
   "cell_type": "markdown",
   "id": "24c3dc48",
   "metadata": {},
   "source": [
    "##### 4. Función principal para ejecutar el algoritmo Q-Learning"
   ]
  },
  {
   "cell_type": "code",
   "execution_count": 21,
   "id": "5ee5259c",
   "metadata": {},
   "outputs": [],
   "source": [
    "def q_learning(laberinto, tamanio, inicio, meta):\n",
    "    Q = np.zeros((tamanio * tamanio, 4))  # Inicializa la tabla Q para todos los estados y acciones\n",
    "    for episodio in range(num_episodios):\n",
    "        estado = inicio\n",
    "        terminado = False\n",
    "        \n",
    "        while not terminado:\n",
    "            accion = epsilon_codicioso(Q, estado, tamanio)\n",
    "            siguiente_estado, recompensa, terminado = ejecutar_accion(estado, accion, laberinto, tamanio)\n",
    "            Q[estado, accion] += alpha * (recompensa + gamma * max(Q[siguiente_estado]) - Q[estado, accion])\n",
    "            estado = siguiente_estado\n",
    "            \n",
    "    return Q"
   ]
  },
  {
   "cell_type": "markdown",
   "id": "bac97336",
   "metadata": {},
   "source": [
    "##### 5. Función para convertir coordenadas a índice lineal"
   ]
  },
  {
   "cell_type": "code",
   "execution_count": 24,
   "id": "b5311d5e",
   "metadata": {},
   "outputs": [],
   "source": [
    "def index_posicion(posicion, tamanio):\n",
    "    return posicion[0] * tamanio + posicion[1]"
   ]
  },
  {
   "cell_type": "markdown",
   "id": "f60f0d38",
   "metadata": {},
   "source": [
    "##### 6. Iniciar el laberinto y configurar el algoritmo Q-Learning"
   ]
  },
  {
   "cell_type": "code",
   "execution_count": 27,
   "id": "2355b8a2",
   "metadata": {},
   "outputs": [],
   "source": [
    "tamanio = 10\n",
    "posicion_inicio = (0, 0)\n",
    "posicion_meta = (9, 9)\n",
    "laberinto = crear_laberinto(tamanio, 20, inicio=posicion_inicio, meta=posicion_meta)\n",
    "inicio = index_posicion(posicion_inicio, tamanio)\n",
    "meta = index_posicion(posicion_meta, tamanio)\n",
    "valores_Q = q_learning(laberinto, tamanio, inicio, meta)"
   ]
  },
  {
   "cell_type": "markdown",
   "id": "addf32a0",
   "metadata": {},
   "source": [
    "##### 7. Función para mostrar el aprendizaje del agente"
   ]
  },
  {
   "cell_type": "code",
   "execution_count": 30,
   "id": "e42f818e",
   "metadata": {},
   "outputs": [],
   "source": [
    "def mostrar_ruta_aprendida(laberinto, Q, inicio, meta, tamanio):\n",
    "    fila, columna = divmod(inicio, tamanio)\n",
    "    ruta = [(fila, columna)]\n",
    "    estado = inicio\n",
    "    while estado != meta:\n",
    "        accion = np.argmax(Q[estado])\n",
    "        estado, _, _ = ejecutar_accion(estado, accion, laberinto, tamanio)\n",
    "        fila, columna = divmod(estado, tamanio)\n",
    "        ruta.append((fila, columna))\n",
    "    \n",
    "    # Mostrar el camino aprendido sobre el laberinto\n",
    "    plt.figure(figsize=(5, 5))\n",
    "    plt.imshow(laberinto, cmap='hot', interpolation='nearest')\n",
    "    filas, columnas = zip(*ruta)\n",
    "    plt.plot(columnas, filas, marker='o', color='c')\n",
    "    plt.colorbar();"
   ]
  },
  {
   "cell_type": "markdown",
   "id": "060cb8db",
   "metadata": {},
   "source": [
    "##### 8. Visualizar el resultado"
   ]
  },
  {
   "cell_type": "code",
   "execution_count": 33,
   "id": "a38f1228",
   "metadata": {},
   "outputs": [
    {
     "data": {
      "image/png": "[encoded data removed]",
      "text/plain": [
       "<Figure size 500x500 with 2 Axes>"
      ]
     },
     "metadata": {},
     "output_type": "display_data"
    }
   ],
   "source": [
    "mostrar_ruta_aprendida(laberinto, valores_Q, inicio, meta, tamanio)\n"
   ]
  },
  {
   "cell_type": "code",
   "execution_count": null,
   "id": "08c557ae-d3dd-4b7b-bfb3-792ff1226104",
   "metadata": {},
   "outputs": [],
   "source": []
  }
 ],
 "metadata": {
  "kernelspec": {
   "display_name": "Python 3 (ipykernel)",
   "language": "python",
   "name": "python3"
  },
  "language_info": {
   "codemirror_mode": {
    "name": "ipython",
    "version": 3
   },
   "file_extension": ".py",
   "mimetype": "text/x-python",
   "name": "python",
   "nbconvert_exporter": "python",
   "pygments_lexer": "ipython3",
   "version": "3.11.7"
  }
 },
 "nbformat": 4,
 "nbformat_minor": 5
}
