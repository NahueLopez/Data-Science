{
 "cells": [
  {
   "cell_type": "markdown",
   "id": "d0e048b7",
   "metadata": {},
   "source": [
    "![](Bellman.png)"
   ]
  },
  {
   "cell_type": "code",
   "execution_count": 2,
   "id": "4c248999",
   "metadata": {},
   "outputs": [],
   "source": [
    "import numpy as np\n",
    "import random"
   ]
  },
  {
   "cell_type": "code",
   "execution_count": 8,
   "id": "22d7be43-342d-44fa-9d4e-b1b13a5d21cd",
   "metadata": {},
   "outputs": [],
   "source": [
    "dimensiones = (5, 5)\n",
    "estado_inicial = (0, 0)\n",
    "estado_objetivo = (4, 4)\n",
    "obstaculos = [(1,1), (1,3), (2,3), (3,0) ]\n",
    "acciones = [(-1, 0), (1,0), (0,-1), (0,1) ]"
   ]
  },
  {
   "cell_type": "code",
   "execution_count": 12,
   "id": "8e6337a4-0f70-45b0-9726-b8d98ed88cbf",
   "metadata": {},
   "outputs": [
    {
     "data": {
      "text/plain": [
       "25"
      ]
     },
     "execution_count": 12,
     "metadata": {},
     "output_type": "execute_result"
    }
   ],
   "source": [
    "num_estados = dimensiones[0] * dimensiones[1]\n",
    "num_estados"
   ]
  },
  {
   "cell_type": "code",
   "execution_count": 14,
   "id": "1e63f870-78cb-4815-9246-b840b7502dfb",
   "metadata": {},
   "outputs": [
    {
     "data": {
      "text/plain": [
       "4"
      ]
     },
     "execution_count": 14,
     "metadata": {},
     "output_type": "execute_result"
    }
   ],
   "source": [
    "num_acciones = len(acciones)\n",
    "num_acciones"
   ]
  },
  {
   "cell_type": "code",
   "execution_count": 16,
   "id": "b4ced2b8-4c63-4269-92ca-3355a15d5a86",
   "metadata": {},
   "outputs": [
    {
     "data": {
      "text/plain": [
       "array([[0., 0., 0., 0.],\n",
       "       [0., 0., 0., 0.],\n",
       "       [0., 0., 0., 0.],\n",
       "       [0., 0., 0., 0.],\n",
       "       [0., 0., 0., 0.],\n",
       "       [0., 0., 0., 0.],\n",
       "       [0., 0., 0., 0.],\n",
       "       [0., 0., 0., 0.],\n",
       "       [0., 0., 0., 0.],\n",
       "       [0., 0., 0., 0.],\n",
       "       [0., 0., 0., 0.],\n",
       "       [0., 0., 0., 0.],\n",
       "       [0., 0., 0., 0.],\n",
       "       [0., 0., 0., 0.],\n",
       "       [0., 0., 0., 0.],\n",
       "       [0., 0., 0., 0.],\n",
       "       [0., 0., 0., 0.],\n",
       "       [0., 0., 0., 0.],\n",
       "       [0., 0., 0., 0.],\n",
       "       [0., 0., 0., 0.],\n",
       "       [0., 0., 0., 0.],\n",
       "       [0., 0., 0., 0.],\n",
       "       [0., 0., 0., 0.],\n",
       "       [0., 0., 0., 0.],\n",
       "       [0., 0., 0., 0.]])"
      ]
     },
     "execution_count": 16,
     "metadata": {},
     "output_type": "execute_result"
    }
   ],
   "source": [
    "Q = np.zeros((num_estados, num_acciones))\n",
    "Q"
   ]
  },
  {
   "cell_type": "code",
   "execution_count": 18,
   "id": "4745c396-4d83-41cc-b538-33fe689a6653",
   "metadata": {},
   "outputs": [],
   "source": [
    "def estado_a_indice(estado): #Devuelve en que posicion esta de la cuadricula\n",
    "    return estado[0] * dimensiones[1] + estado[1]    "
   ]
  },
  {
   "cell_type": "code",
   "execution_count": 32,
   "id": "150f6a54-1730-4e06-a140-c9eeff0c7c23",
   "metadata": {},
   "outputs": [],
   "source": [
    "ejemplo = estado_a_indice((1, 0)) #enviamos la accion que se realizo"
   ]
  },
  {
   "cell_type": "code",
   "execution_count": 34,
   "id": "54c097d2-4399-4649-a35a-efcaa0352d79",
   "metadata": {},
   "outputs": [
    {
     "data": {
      "text/plain": [
       "5"
      ]
     },
     "execution_count": 34,
     "metadata": {},
     "output_type": "execute_result"
    }
   ],
   "source": [
    "ejemplo"
   ]
  },
  {
   "cell_type": "code",
   "execution_count": 36,
   "id": "1d6450db-37c6-4994-abc5-826f2bb5505a",
   "metadata": {},
   "outputs": [],
   "source": [
    "alpha = 0.1 #Nivel de aprendizaje, mientras mas pequeño mas lento pero seguro\n",
    "gamma = 0.99 #Mejor recomenpza a largo plazo, mientras mas alto mas a futuro y a menor numero mas inmediatas\n",
    "epsilon = 0.2 #Explora el entorno, variacion de caminos.No reppita siempre la misma decision\n",
    "episodios = 100 #Cantidad de episodios que va a repetir "
   ]
  },
  {
   "cell_type": "code",
   "execution_count": 40,
   "id": "636427ac-9e42-4373-a4fb-6852006593c6",
   "metadata": {},
   "outputs": [],
   "source": [
    "def elegir_accion(estado):\n",
    "    if random.uniform(0,1) < epsilon:\n",
    "        return random.choice(range(num_acciones))\n",
    "    else: \n",
    "        return np.argmax(Q[estado_a_indice(estado)])"
   ]
  },
  {
   "cell_type": "code",
   "execution_count": 49,
   "id": "9da08942-0780-457b-b1af-2a2aa1ec17ca",
   "metadata": {},
   "outputs": [],
   "source": [
    "def aplicar_accion(estado, accion_idx):\n",
    "    accion = acciones[accion_idx]\n",
    "    nuevo_estado = tuple(np.add(estado, accion) % dimensiones)\n",
    "\n",
    "    if nuevo_estado in obstaculos or nuevo_estado == estado:\n",
    "        return estado, -100, False\n",
    "    if nuevo_estado == estado_objetivo:\n",
    "        return nuevo_estado, 100, True\n",
    "    return nuevo_estado, -1, False"
   ]
  },
  {
   "cell_type": "code",
   "execution_count": 53,
   "id": "c1bc8313-2642-4f4f-b953-8eb0e369116c",
   "metadata": {},
   "outputs": [],
   "source": [
    "for episodio in range(episodios):\n",
    "    estado = estado_inicial\n",
    "    terminado = False\n",
    "    \n",
    "    while not terminado:\n",
    "        idx_estado = estado_a_indice(estado)\n",
    "        accion_idx = elegir_accion(estado)\n",
    "        nuevo_estado, recompensa, terminado = aplicar_accion(estado, accion_idx)\n",
    "        idx_nuevo_estado = estado_a_indice(nuevo_estado)\n",
    "        \n",
    "        Q[idx_estado, accion_idx] = Q[idx_estado, accion_idx] + alpha + (recompensa + gamma * np.max(Q[idx_nuevo_estado]) - Q[idx_estado, accion_idx])\n",
    "        \n",
    "        estado = nuevo_estado"
   ]
  },
  {
   "cell_type": "code",
   "execution_count": 55,
   "id": "9d1628e5-cda7-472b-9848-65f955b1fab1",
   "metadata": {},
   "outputs": [
    {
     "data": {
      "text/plain": [
       "array([[0, 0, 0, 0, 0],\n",
       "       [0, 0, 0, 0, 0],\n",
       "       [0, 0, 0, 0, 0],\n",
       "       [0, 0, 0, 0, 0],\n",
       "       [0, 0, 0, 0, 0]])"
      ]
     },
     "execution_count": 55,
     "metadata": {},
     "output_type": "execute_result"
    }
   ],
   "source": [
    "politica = np.zeros(dimensiones, dtype=int)\n",
    "politica"
   ]
  },
  {
   "cell_type": "code",
   "execution_count": 59,
   "id": "56fc5202-3207-4b1c-a8c0-4624dd1e344f",
   "metadata": {},
   "outputs": [
    {
     "name": "stdout",
     "output_type": "stream",
     "text": [
      "Politica aprendida (0:arriba, 1:abajo, 2:izquierda, 3:derecha)\n",
      "[[0 2 2 1 0]\n",
      " [0 0 2 0 0]\n",
      " [1 2 2 0 2]\n",
      " [0 0 0 1 1]\n",
      " [2 2 3 1 0]]\n"
     ]
    }
   ],
   "source": [
    "for i in range(dimensiones[0]):\n",
    "    for j in range(dimensiones[1]):\n",
    "        estado = (i, j)\n",
    "        idx_estado = estado_a_indice(estado)\n",
    "        mejor_accion = np.argmax(Q[idx_estado])\n",
    "        politica[i, j] = mejor_accion\n",
    "\n",
    "print(\"Politica aprendida (0:arriba, 1:abajo, 2:izquierda, 3:derecha)\")\n",
    "print(politica)"
   ]
  },
  {
   "cell_type": "code",
   "execution_count": null,
   "id": "4456c869-8263-4e34-addf-d359425e3da2",
   "metadata": {},
   "outputs": [],
   "source": []
  }
 ],
 "metadata": {
  "kernelspec": {
   "display_name": "Python 3 (ipykernel)",
   "language": "python",
   "name": "python3"
  },
  "language_info": {
   "codemirror_mode": {
    "name": "ipython",
    "version": 3
   },
   "file_extension": ".py",
   "mimetype": "text/x-python",
   "name": "python",
   "nbconvert_exporter": "python",
   "pygments_lexer": "ipython3",
   "version": "3.11.7"
  }
 },
 "nbformat": 4,
 "nbformat_minor": 5
}
