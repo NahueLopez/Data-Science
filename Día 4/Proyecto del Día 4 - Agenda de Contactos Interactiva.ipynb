{
 "cells": [
  {
   "cell_type": "markdown",
   "id": "0d153c56",
   "metadata": {},
   "source": [
    "# Proyecto del Día 4: Agenda de Contactos Interactiva\n",
    "\n",
    "### Objetivo\n",
    "Crear una agenda de contactos utilizando Python, aplicando los conceptos aprendidos sobre listas, tuplas, diccionarios, booleanos y estructuras de control.\n",
    "\n",
    "\n",
    "### Consigna\n",
    "Cada vez que inicies tu agenda, va a comenzar preguntándole al usuario cuál de estas opciones prefiere:\n",
    "1. **Añadir un contacto**: Crear un nuevo registro en la agenda (nombre, telefono).\n",
    "2. **Buscar un contacto**: Buscar un contacto por nombre y mostrar su teléfono, o un mensaje de error si no lo encuentra.\n",
    "3. **Editar un contacto**: Modificar teléfono de un contacto existente.\n",
    "4. **Eliminar un contacto**: Eliminar un contacto de la agenda (investiga los métodos disponibles para lograrlo)\n",
    "5. **Mostrar todos los contactos**: Mostrar todos los contactos guardados en la agenda.\n",
    "\n",
    "El usuario elegirá una de esas opciones, y el programa ejecutará el código correspondiente para procesar su pedido y mostrarle el resultado.\n",
    "\n",
    "\n",
    "### Notas y Ayudas\n",
    "- Debido a que vas a almacenar pares de datos (nombre y teléfono) ¿cuál crees que sería la mejor estructura de datos para guardarlos: **listas**, **tuplas** o **diccionarios**?\n",
    "- Algunas de las funcionalidades de tu agenda, pueden requerir que investigues algunos métodos que no hemos visto en las lecciones, pero que podrás descubrir con *type*, *dir* y *help*.\n",
    "<br>  \n",
    "<br>\n",
    "<br>"
   ]
  },
  {
   "cell_type": "markdown",
   "id": "c6c4ab9d",
   "metadata": {},
   "source": [
    "## Resolución"
   ]
  },
  {
   "cell_type": "markdown",
   "id": "cb507a52",
   "metadata": {},
   "source": [
    "Crea una agenda vacía"
   ]
  },
  {
   "cell_type": "code",
   "execution_count": 40,
   "id": "e9c026bd",
   "metadata": {},
   "outputs": [],
   "source": [
    "agenda = {}"
   ]
  },
  {
   "cell_type": "markdown",
   "id": "be7b6b93",
   "metadata": {},
   "source": [
    "En la siguiente celda, incluye el código para ejecutar las siguientes instrucciones:\n",
    "- Mostrar en pantalla las opciones\n",
    "- Pedirle al usuario que elija las opciones\n",
    "- Crear una estructura de control (*if*, *elif* y *else*) que ejecute diferentes bloques de código según las opciones elegidas."
   ]
  },
  {
   "cell_type": "code",
   "execution_count": 90,
   "id": "45fbcf91",
   "metadata": {},
   "outputs": [
    {
     "name": "stdin",
     "output_type": "stream",
     "text": [
      "Seleccione la opcion que necesita: \n",
      "        1-Añadir un contacto: Crear un nuevo registro en la agenda (nombre, telefono).\n",
      "        2-Buscar un contacto: Buscar un contacto por nombre y mostrar su teléfono, o un mensaje de error si no lo encuentra.\n",
      "        3-Editar un contacto: Modificar teléfono de un contacto existente.\n",
      "        4-Eliminar un contacto: Eliminar un contacto de la agenda (investiga los métodos disponibles para lograrlo)\n",
      "        5-Mostrar todos los contactos: Mostrar todos los contactos guardados en la agenda.\n",
      "        6-Salir del sistema.\n",
      "         1\n",
      "Ingrese el Nombre:  Nahuel\n",
      "Ingrese el Numero:  12\n"
     ]
    },
    {
     "name": "stdout",
     "output_type": "stream",
     "text": [
      "Contacto Nahuel añadido con éxito.\n"
     ]
    },
    {
     "name": "stdin",
     "output_type": "stream",
     "text": [
      "Seleccione la opcion que necesita: \n",
      "        1-Añadir un contacto: Crear un nuevo registro en la agenda (nombre, telefono).\n",
      "        2-Buscar un contacto: Buscar un contacto por nombre y mostrar su teléfono, o un mensaje de error si no lo encuentra.\n",
      "        3-Editar un contacto: Modificar teléfono de un contacto existente.\n",
      "        4-Eliminar un contacto: Eliminar un contacto de la agenda (investiga los métodos disponibles para lograrlo)\n",
      "        5-Mostrar todos los contactos: Mostrar todos los contactos guardados en la agenda.\n",
      "        6-Salir del sistema.\n",
      "         6\n"
     ]
    },
    {
     "name": "stdout",
     "output_type": "stream",
     "text": [
      "Muchas Gracias\n"
     ]
    }
   ],
   "source": [
    "while True:\n",
    "    select = int(input(\"\"\"Seleccione la opcion que necesita: \n",
    "        1-Añadir un contacto: Crear un nuevo registro en la agenda (nombre, telefono).\n",
    "        2-Buscar un contacto: Buscar un contacto por nombre y mostrar su teléfono, o un mensaje de error si no lo encuentra.\n",
    "        3-Editar un contacto: Modificar teléfono de un contacto existente.\n",
    "        4-Eliminar un contacto: Eliminar un contacto de la agenda (investiga los métodos disponibles para lograrlo)\n",
    "        5-Mostrar todos los contactos: Mostrar todos los contactos guardados en la agenda.\n",
    "        6-Salir del sistema.\n",
    "        \"\"\"))\n",
    "    \n",
    "    if select == 1:\n",
    "        nombre = input(\"Ingrese el Nombre: \")\n",
    "        numero = input(\"Ingrese el Numero: \")\n",
    "        agenda[nombre] = numero\n",
    "        print(f\"Contacto {nombre} añadido con éxito.\")\n",
    "        \n",
    "    elif select == 2:\n",
    "        nombre = input(\"Ingrese nombre a buscar:\")\n",
    "        numero = agenda.get(nombre)\n",
    "        if numero is not None:\n",
    "            print(f\"El numero de {nombre} es: {numero}\")\n",
    "        else:\n",
    "            print(\"No se encontro el nombre en la agenda\")\n",
    "        \n",
    "    elif select == 3:\n",
    "        nombre = input(\"Ingrese nombre a editar:\")\n",
    "        numero = agenda.get(nombre)\n",
    "        if numero is not None:\n",
    "            nuevo = input(\"Ingrese el nuevo numero\")\n",
    "            agenda.update({nombre:nuevo})\n",
    "            print(f\"Se modifico el numero de {nombre} a {nuevo}\")\n",
    "        else:\n",
    "            print(\"No se encontro el nombre en la agenda\")\n",
    "        \n",
    "    elif select == 4:\n",
    "        nombre = input(\"Ingrese nombre a eliminar:\")\n",
    "        if nombre in agenda:\n",
    "            ok = input(f\"Se eliminara el contacto de {nombre}\")\n",
    "            if ok.lower() == \"s\":\n",
    "                agenda.pop(nombre)\n",
    "                print(\"se elimino el contacto\")\n",
    "        else:\n",
    "            print(\"No se encontro el nombre en la agenda\")\n",
    "        \n",
    "    elif select == 5:        \n",
    "        print(f\"Los datos de la agenda son los siguientes:\")\n",
    "        for nombre,numero in agenda.items():\n",
    "            print(f\"{nombre} y su numero {numero}\")\n",
    "\n",
    "    elif select == 6:\n",
    "        break\n",
    "        \n",
    "    else:\n",
    "        print(\"Opción no válida\")\n",
    "\n",
    "print(\"Muchas Gracias\")"
   ]
  },
  {
   "cell_type": "code",
   "execution_count": 74,
   "id": "1cebc770-d48c-4ea2-8188-5b7834e9755a",
   "metadata": {},
   "outputs": [
    {
     "name": "stdout",
     "output_type": "stream",
     "text": [
      "{}\n"
     ]
    }
   ],
   "source": [
    "print(agenda)"
   ]
  },
  {
   "cell_type": "code",
   "execution_count": null,
   "id": "5b2eabe5-6aa2-463d-b794-a7564c65b072",
   "metadata": {},
   "outputs": [],
   "source": []
  }
 ],
 "metadata": {
  "kernelspec": {
   "display_name": "Python 3 (ipykernel)",
   "language": "python",
   "name": "python3"
  },
  "language_info": {
   "codemirror_mode": {
    "name": "ipython",
    "version": 3
   },
   "file_extension": ".py",
   "mimetype": "text/x-python",
   "name": "python",
   "nbconvert_exporter": "python",
   "pygments_lexer": "ipython3",
   "version": "3.11.7"
  }
 },
 "nbformat": 4,
 "nbformat_minor": 5
}
